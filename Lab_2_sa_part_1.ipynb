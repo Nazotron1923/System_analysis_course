{
 "cells": [
  {
   "cell_type": "code",
   "execution_count": null,
   "metadata": {},
   "outputs": [],
   "source": [
    "import pandas as pd\n",
    "import numpy as np\n",
    "import scipy.linalg as la\n",
    "import matplotlib.pyplot as plt"
   ]
  },
  {
   "cell_type": "code",
   "execution_count": 817,
   "metadata": {},
   "outputs": [],
   "source": [
    "j1 = 2 # кількість змінних по х1\n",
    "j2 = 2 # кількість змінних по х2\n",
    "j3 = 3 # кількість змінних по х3\n",
    "m = 4 # кількість змінних по y\n",
    "\n",
    "pow_polin_cheb = 2 # степінь полінома чебешева\n",
    "file_name = 'table_51_f_n1.csv'"
   ]
  },
  {
   "cell_type": "code",
   "execution_count": 818,
   "metadata": {},
   "outputs": [],
   "source": [
    "koef = [j1, j2, j3]\n",
    "\n",
    "\n",
    "new_df = pd.read_csv(file_name, index_col='Unnamed: 0')\n",
    "#new_df = pd.read_csv(file_name, index_col='Unnamed: 0')"
   ]
  },
  {
   "cell_type": "code",
   "execution_count": 819,
   "metadata": {},
   "outputs": [],
   "source": [
    "def normilize(x, MIN_p, MAX_p):\n",
    "    return (x - MIN_p) / (MAX_p - MIN_p)\n",
    "\n",
    "# def back_to_norm(x, MIN_p, MAX_p):\n",
    "#     return (MAX_p - MIN_p)*x + MIN_p"
   ]
  },
  {
   "cell_type": "code",
   "execution_count": 820,
   "metadata": {},
   "outputs": [],
   "source": [
    "# MAX_col = []\n",
    "# MIN_col = []\n",
    "\n",
    "# for col in df.columns:\n",
    "#     MAX_one = max(df[col])\n",
    "#     MAX_col.append(MAX_one)\n",
    "#     MAX = [MAX_one for i in range(45)]\n",
    "\n",
    "#     MIN_one = min(df[col])\n",
    "#     MIN_col.append(MIN_one)\n",
    "#     MIN = [MIN_one for i in range(45)]\n",
    "\n",
    "#     ser = pd.Series(np.array(list(map(normilize, df[col], MIN, MAX))), index=df.index)\n",
    "#     new_df[col] = ser"
   ]
  },
  {
   "cell_type": "code",
   "execution_count": null,
   "metadata": {},
   "outputs": [],
   "source": [
    ""
   ]
  },
  {
   "cell_type": "code",
   "execution_count": 821,
   "metadata": {},
   "outputs": [],
   "source": [
    "def get_T(x, deg):\n",
    "    if (deg == 0): return 1\n",
    "    elif (deg == 1): return -1+2*x\n",
    "    else: return (2*(-1+2*x)*get_T(x,deg-1) - get_T(x,deg-2))"
   ]
  },
  {
   "cell_type": "code",
   "execution_count": 822,
   "metadata": {},
   "outputs": [],
   "source": [
    "rivn_n = []\n",
    "for i in range(45):\n",
    "    p = 0\n",
    "    rivn = []\n",
    "    for kef in koef:\n",
    "        p += 1\n",
    "        for j_i in range(0,kef):\n",
    "            for k in range(pow_polin_cheb):\n",
    "                rivn.append(get_T(new_df['x%d%d'%(p,(j_i+1))].iloc[i], k))\n",
    "    rivn_n.append(rivn)\n",
    "\n",
    "\n",
    "matrix_A = np.array(rivn_n)"
   ]
  },
  {
   "cell_type": "code",
   "execution_count": null,
   "metadata": {},
   "outputs": [],
   "source": [
    "# for i in range(45):\n",
    "#     row_lin = [        \n",
    "#                     get_T(new_df['x11'].iloc[i], 0), get_T(new_df['x11'].iloc[i], 1), \n",
    "#                     get_T(new_df['x12'].iloc[i], 0), get_T(new_df['x12'].iloc[i], 1), \n",
    "#                     get_T(new_df['x21'].iloc[i], 0), get_T(new_df['x21'].iloc[i], 1), \n",
    "#                     get_T(new_df['x22'].iloc[i], 0), get_T(new_df['x22'].iloc[i], 1), \n",
    "#                     get_T(new_df['x31'].iloc[i], 0), get_T(new_df['x31'].iloc[i], 1), \n",
    "#                     get_T(new_df['x32'].iloc[i], 0), get_T(new_df['x32'].iloc[i], 1), \n",
    "#                     get_T(new_df['x33'].iloc[i], 0), get_T(new_df['x33'].iloc[i], 1), \n",
    "#               ]\n",
    "#     A.append(row_lin)\n",
    "\n",
    "\n",
    "# matrix_A = np.array(A)\n",
    "# matrix_A"
   ]
  },
  {
   "cell_type": "code",
   "execution_count": 835,
   "metadata": {},
   "outputs": [],
   "source": [
    "# знаходження коефіцієнтів лямбда\n",
    "b_vec = []\n",
    "Lambda = []\n",
    "\n",
    "for i in range(m):\n",
    "    b_vec.append(np.array(list(new_df['Y%d'%(i+1)])))\n",
    "    Lambda.append(la.lstsq(matrix_A, b_vec[i])[0])"
   ]
  },
  {
   "cell_type": "code",
   "execution_count": 836,
   "metadata": {},
   "outputs": [],
   "source": [
    "def phi(lan_ji_k, x):\n",
    "    summ = 0\n",
    "    for i in range(pow_polin_cheb):\n",
    "        summ += lan_ji_k[i]*get_T(x,i)\n",
    "    return summ"
   ]
  },
  {
   "cell_type": "code",
   "execution_count": 837,
   "metadata": {},
   "outputs": [],
   "source": [
    "matrix_phi_X1 = [[] for i in range(m)]\n",
    "matrix_phi_X2 = [[] for i in range(m)]\n",
    "matrix_phi_X3 = [[] for i in range(m)]\n",
    "\n",
    "\n",
    "for n in range(m):\n",
    "    for i in range(45):\n",
    "        line_X1_i = [phi(Lambda[n][pow_polin_cheb*z:pow_polin_cheb*(z+1)],new_df['x1%d'%(z+1)].iloc[i]) for z in range(j1)]\n",
    "        matrix_phi_X1[n].append(line_X1_i)\n",
    "\n",
    "        line_X2_i = [phi(Lambda[n][pow_polin_cheb*(z+2):pow_polin_cheb*(z+3)],new_df['x2%d'%(z+1)].iloc[i]) for z in range(j2)]\n",
    "        matrix_phi_X2[n].append(line_X2_i)\n",
    "\n",
    "        line_X3_i = [phi(Lambda[n][pow_polin_cheb*(z+4):pow_polin_cheb*(z+5)],new_df['x3%d'%(z+1)].iloc[i]) for z in range(j3)]\n",
    "        matrix_phi_X3[n].append(line_X3_i) \n",
    "    \n",
    "    \n",
    "\n",
    "\n",
    "matrix_phi_X1_np = [np.array(matrix_phi_X1[j]) for j in range(len(matrix_phi_X1))]\n",
    "matrix_phi_X2_np = [np.array(matrix_phi_X2[j]) for j in range(len(matrix_phi_X2))]\n",
    "matrix_phi_X3_np = [np.array(matrix_phi_X3[j]) for j in range(len(matrix_phi_X3))]"
   ]
  },
  {
   "cell_type": "code",
   "execution_count": 838,
   "metadata": {},
   "outputs": [],
   "source": [
    "# знаходження коефіцієнтів А для кожного У(1..m)\n",
    "\n",
    "a_x1 = []\n",
    "a_x2 = []\n",
    "a_x3 = []\n",
    "\n",
    "for n in range(m):\n",
    "    a_x1.append(la.lstsq(matrix_phi_X1_np[n], b_vec[n])[0])\n",
    "    a_x2.append(la.lstsq(matrix_phi_X2_np[n], b_vec[n])[0])\n",
    "    a_x3.append(la.lstsq(matrix_phi_X3_np[n], b_vec[n])[0])"
   ]
  },
  {
   "cell_type": "code",
   "execution_count": 839,
   "metadata": {},
   "outputs": [],
   "source": [
    "# знаходження коефіцієнтів C \n",
    "\n",
    "matrix_F = [[] for i in range(m)]\n",
    "\n",
    "for n in range(m):\n",
    "    for i in range(45):\n",
    "        line_c = [\n",
    "                  sum([ a_x1[n][z]*phi(Lambda[n][pow_polin_cheb*z:pow_polin_cheb*(z+1)],new_df['x1%d'%(z+1)].iloc[i]) for z in range(j1)]),\n",
    "                  sum([ a_x2[n][z]*phi(Lambda[n][pow_polin_cheb*(z+2):pow_polin_cheb*(z+3)],new_df['x2%d'%(z+1)].iloc[i]) for z in range(j2)]),  \n",
    "                  sum([ a_x3[n][z]*phi(Lambda[n][pow_polin_cheb*(z+4):pow_polin_cheb*(z+5)],new_df['x3%d'%(z+1)].iloc[i]) for z in range(j3)]),\n",
    "\n",
    "                 ]\n",
    "        matrix_F[n].append(line_c)\n",
    "    \n",
    "    \n",
    "matrix_F = [np.array(matrix_F[j]) for j in range(len(matrix_F))]\n",
    "\n",
    "C = []\n",
    "for n in range(m):\n",
    "    C.append(la.lstsq(matrix_F[n], b_vec[n])[0])"
   ]
  },
  {
   "cell_type": "code",
   "execution_count": 840,
   "metadata": {},
   "outputs": [],
   "source": [
    "y_new = [[] for i in range(m)]\n",
    "\n",
    "for n in range(m):\n",
    "    for i in range(45):\n",
    "        y_new[n].append(\n",
    "                         C[n][0]*(sum([ a_x1[n][z]*phi(Lambda[n][pow_polin_cheb*z:pow_polin_cheb*(z+1)],new_df['x1%d'%(z+1)].iloc[i]) for z in range(j1)])) +\n",
    "                         C[n][1]*(sum([ a_x2[n][z]*phi(Lambda[n][pow_polin_cheb*(z+2):pow_polin_cheb*(z+3)],new_df['x2%d'%(z+1)].iloc[i]) for z in range(j2)])) +\n",
    "                         C[n][2]*(sum([ a_x3[n][z]*phi(Lambda[n][pow_polin_cheb*(z+4):pow_polin_cheb*(z+5)],new_df['x3%d'%(z+1)].iloc[i]) for z in range(j3)]))\n",
    "                       )\n",
    "y_new = [np.array(y_new[j]) for j in range(m)]"
   ]
  },
  {
   "cell_type": "code",
   "execution_count": 841,
   "metadata": {},
   "outputs": [
    {
     "data": {
      "image/png": "[encoded data removed]",
      "text/plain": [
       "<matplotlib.figure.Figure at 0x7f796ee5d208>"
      ]
     },
     "metadata": {},
     "output_type": "display_data"
    }
   ],
   "source": [
    "#plt.plot(new_df.index, f, 'b--')\n",
    "plt.plot(new_df.index, new_df['Y1'], 'r--')\n",
    "plt.plot(new_df.index, y_new[0], 'b--')\n",
    "plt.show()"
   ]
  },
  {
   "cell_type": "code",
   "execution_count": null,
   "metadata": {},
   "outputs": [],
   "source": [
    ""
   ]
  },
  {
   "cell_type": "code",
   "execution_count": 842,
   "metadata": {},
   "outputs": [],
   "source": [
    "# y_max_ones = []\n",
    "# y_min_ones = []\n",
    "\n",
    "\n",
    "\n",
    "# for i in range(len(MAX_col)-m, len(MAX_col)):\n",
    "#     y_max_ones.append([MAX_col[i] for j in range(45)])\n",
    "#     y_min_ones.append([MIN_col[i] for j in range(45)])\n",
    "\n",
    "# y_new_back = []\n",
    "\n",
    "# for i in range(m):\n",
    "#     y_new_back.append(np.array(list(map(back_to_norm,y_new[i], y_min_ones[i], y_max_ones[i]))))"
   ]
  },
  {
   "cell_type": "code",
   "execution_count": 843,
   "metadata": {},
   "outputs": [],
   "source": [
    "# plt.plot(new_df.index, df['Y2'], 'r--')\n",
    "# plt.plot(new_df.index, y_new_back[1], 'b--')\n",
    "# plt.show()"
   ]
  },
  {
   "cell_type": "code",
   "execution_count": null,
   "metadata": {},
   "outputs": [],
   "source": [
    ""
   ]
  },
  {
   "cell_type": "code",
   "execution_count": null,
   "metadata": {},
   "outputs": [],
   "source": [
    ""
   ]
  },
  {
   "cell_type": "code",
   "execution_count": null,
   "metadata": {},
   "outputs": [],
   "source": [
    ""
   ]
  },
  {
   "cell_type": "code",
   "execution_count": null,
   "metadata": {},
   "outputs": [],
   "source": [
    ""
   ]
  },
  {
   "cell_type": "code",
   "execution_count": null,
   "metadata": {},
   "outputs": [],
   "source": [
    ""
   ]
  },
  {
   "cell_type": "code",
   "execution_count": null,
   "metadata": {},
   "outputs": [],
   "source": [
    ""
   ]
  },
  {
   "cell_type": "code",
   "execution_count": null,
   "metadata": {},
   "outputs": [],
   "source": [
    ""
   ]
  },
  {
   "cell_type": "code",
   "execution_count": null,
   "metadata": {},
   "outputs": [],
   "source": [
    ""
   ]
  },
  {
   "cell_type": "code",
   "execution_count": null,
   "metadata": {},
   "outputs": [],
   "source": [
    ""
   ]
  },
  {
   "cell_type": "code",
   "execution_count": null,
   "metadata": {},
   "outputs": [],
   "source": [
    ""
   ]
  },
  {
   "cell_type": "code",
   "execution_count": null,
   "metadata": {},
   "outputs": [],
   "source": [
    ""
   ]
  }
 ],
 "metadata": {
  "kernelspec": {
   "display_name": "Python 3",
   "language": "python",
   "name": "python3"
  },
  "language_info": {
   "codemirror_mode": {
    "name": "ipython",
    "version": 3.0
   },
   "file_extension": ".py",
   "mimetype": "text/x-python",
   "name": "python",
   "nbconvert_exporter": "python",
   "pygments_lexer": "ipython3",
   "version": "3.6.0"
  }
 },
 "nbformat": 4,
 "nbformat_minor": 0
}