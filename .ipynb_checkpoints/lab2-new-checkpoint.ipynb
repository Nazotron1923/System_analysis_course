{
 "cells": [
  {
   "cell_type": "code",
   "execution_count": 1,
   "metadata": {
    "collapsed": true
   },
   "outputs": [],
   "source": [
    "import pandas as pd\n",
    "import numpy as np\n",
    "import matplotlib.pyplot as plt\n",
    "import copy"
   ]
  },
  {
   "cell_type": "code",
   "execution_count": 2,
   "metadata": {
    "collapsed": true
   },
   "outputs": [],
   "source": [
    "from lib import *"
   ]
  },
  {
   "cell_type": "code",
   "execution_count": 3,
   "metadata": {},
   "outputs": [],
   "source": [
    "def normalize(X):\n",
    "    new_X = X.copy()\n",
    "    for column in X:\n",
    "        d1 = new_X[column].min()\n",
    "        d2 = new_X[column].max()\n",
    "        new_X[column] = new_X[column].apply(lambda x: (x-d1)/float(d2-d1))\n",
    "    return new_X"
   ]
  },
  {
   "cell_type": "code",
   "execution_count": 4,
   "metadata": {},
   "outputs": [],
   "source": [
    "#сумма всех 45 уравнений в квадрате\n",
    "def F(Lambda_, Y_mean_, T_):\n",
    "    return sum([(Lambda_.dot(Y_mean_[q])-T_[q])**2 for q in range(0, Q)])"
   ]
  },
  {
   "cell_type": "code",
   "execution_count": 5,
   "metadata": {},
   "outputs": [],
   "source": [
    "#производная по і координате в точках лямбда\n",
    "def gF_gi(i, Y_mean_, T_, Lambda_):\n",
    "    gF = 0\n",
    "    T_ = np.matrix(T_)\n",
    "    for q in range(0, T_.shape[1]):#V_N):#Q):\n",
    "        if list(Y_mean_) != []:\n",
    "            coef = np.array(T_[q].tolist()[0]+ [-Y_mean_[q]])\n",
    "            lambd = np.array(list(Lambda_) + [1])\n",
    "        else:\n",
    "            coef = np.array(T_[q].tolist()[0])\n",
    "            lambd = np.array(list(Lambda_))\n",
    "        gF += 2*coef[i]*coef.dot(lambd)\n",
    "    if gF == 0:\n",
    "        print \"OK\"\n",
    "    return gF"
   ]
  },
  {
   "cell_type": "code",
   "execution_count": 6,
   "metadata": {
    "collapsed": true
   },
   "outputs": [],
   "source": [
    "#solve A1x=B1\n",
    "# A - matrix (T) n*q\n",
    "# B - vector (Y_mean) 1*q\n",
    "# q>n\n",
    "# A1[i]x = f_i -> F = \\sum{|f_i|^2}\n",
    "def solve(A,B, NN=0):\n",
    "    if NN == 0:\n",
    "        NN = np.matrix(A).shape[1]\n",
    "    x_0 = np.array([1.0]*NN)\n",
    "    x = copy.deepcopy(x_0)\n",
    "    while True:\n",
    "        for i in range(0, NN):\n",
    "            x_temp = copy.deepcopy(x)\n",
    "            derivative = gF_gi(i,B, A, x_temp)\n",
    "            x[i] = x_temp[i] - L(i, x_temp, derivative, A, B)*derivative\n",
    "        #print x\n",
    "        #print sum((x-x_0)**2)**(0.5)\n",
    "        #print \n",
    "        if sum((x-x_0)**2)**(0.5) < eps:\n",
    "            break\n",
    "        else: \n",
    "            x_0 = copy.deepcopy(x)\n",
    "    return x"
   ]
  },
  {
   "cell_type": "markdown",
   "metadata": {},
   "source": [
    "$$ L = \\frac {\\sum{(aT(q) - Y_{mean}(q))*bT(q)}} {\\sum{(bT(q))^2}} = \\frac {ab\\sum{T(q)^2} - b \\sum{Y_{mean}(q)*T(q)}} {b^2 \\sum{T(q)^2}} = \\frac {abS_1 - bS_2} {b^2 S_1} $$"
   ]
  },
  {
   "cell_type": "code",
   "execution_count": 7,
   "metadata": {
    "collapsed": true
   },
   "outputs": [],
   "source": [
    "# minimum for i coordinate, a = previous solution, b = derivative value scalar\n",
    "def L(i, a_, b_, T_, Y_mean_):\n",
    "    T_ = np.matrix(T_)\n",
    "    a_1 = sum([(a_.dot(T_[q].tolist()[0])-Y_mean_[q])*b_*T_[q,i] for q in range(0,T_.shape[1])])#V_N)])#Q)])\n",
    "    a_2 = sum([(b_*T_[q,i])**2 for q in range(0,T_.shape[1])])#V_N)])#Q)])\n",
    "    return float(a_1)/a_2"
   ]
  },
  {
   "cell_type": "code",
   "execution_count": null,
   "metadata": {
    "collapsed": true
   },
   "outputs": [],
   "source": []
  },
  {
   "cell_type": "code",
   "execution_count": 8,
   "metadata": {},
   "outputs": [],
   "source": [
    "#get data\n",
    "original_X = pd.DataFrame.from_csv('X.csv', index_col=None)\n",
    "original_Y = pd.DataFrame.from_csv('Y.csv', index_col=None)"
   ]
  },
  {
   "cell_type": "code",
   "execution_count": 9,
   "metadata": {},
   "outputs": [],
   "source": [
    "#normalize data\n",
    "X = normalize(original_X)\n",
    "Y = normalize(original_Y)"
   ]
  },
  {
   "cell_type": "code",
   "execution_count": 65,
   "metadata": {},
   "outputs": [
    {
     "name": "stdout",
     "output_type": "stream",
     "text": [
      "45 24\n"
     ]
    }
   ],
   "source": [
    "#global variables\n",
    "N = [0,2,1,3] #dimensions of X\n",
    "P = [0,3,3,3] #number of polynomals\n",
    "eps = 1e-4\n",
    "POL_TYPE = 'CH1'\n",
    "\n",
    "#get limits for loops\n",
    "Q = len(Y)\n",
    "V_N = sum([ i*(j+1) for i,j in zip(N,P)])\n",
    "print Q, V_N\n",
    "\n",
    "T = [] #values of polynoms\n",
    "Y_mean = [] \n",
    "KSI = []\n",
    "new_Lambda = []\n",
    "A_mats = []\n",
    "Fi_mats = []\n",
    "C_mats = []"
   ]
  },
  {
   "cell_type": "code",
   "execution_count": 78,
   "metadata": {},
   "outputs": [],
   "source": [
    "# get values of polynoms and y for getting matrix lambda. pre stage for hierarcy 3\n",
    "# strings is q and cols are number of lambda\n",
    "T = []\n",
    "Y_mean = []\n",
    "for q in range(0, Q):\n",
    "    Y_mean += [Y.iloc[q].mean()]\n",
    "    a_temp = []\n",
    "    for n in range(1,3+1):\n",
    "        for j in range(1, N[n]+1):\n",
    "            for p in range(0, P[n]+1):\n",
    "                a_temp += [get_T(X['X_%d%d'%(n,j)].iloc[q],p, POL_TYPE)]\n",
    "    T += [a_temp]    "
   ]
  },
  {
   "cell_type": "code",
   "execution_count": 67,
   "metadata": {},
   "outputs": [
    {
     "data": {
      "text/plain": [
       "True"
      ]
     },
     "execution_count": 67,
     "metadata": {},
     "output_type": "execute_result"
    }
   ],
   "source": [
    "len(T[0])==V_N"
   ]
  },
  {
   "cell_type": "code",
   "execution_count": 68,
   "metadata": {},
   "outputs": [
    {
     "data": {
      "text/plain": [
       "[0, 8, 4, 12]"
      ]
     },
     "execution_count": 68,
     "metadata": {},
     "output_type": "execute_result"
    }
   ],
   "source": [
    "[ i*(j+1) for i,j in zip(N,P)]"
   ]
  },
  {
   "cell_type": "code",
   "execution_count": 14,
   "metadata": {
    "scrolled": true
   },
   "outputs": [
    {
     "data": {
      "text/plain": [
       "array([ 0.00574968,  0.00052704, -0.00909408])"
      ]
     },
     "execution_count": 14,
     "metadata": {},
     "output_type": "execute_result"
    }
   ],
   "source": [
    "A_ = [\n",
    "[2,1,1],\n",
    "[1,-1,0],\n",
    "[3,-1,2]\n",
    "]\n",
    "\n",
    "B_ = [2,-2,2]\n",
    "\n",
    "res = solve(A_,B_)\n",
    "res - [-1,1,3]"
   ]
  },
  {
   "cell_type": "code",
   "execution_count": 75,
   "metadata": {
    "scrolled": true
   },
   "outputs": [
    {
     "name": "stdout",
     "output_type": "stream",
     "text": [
      "[-2.1443415   0.35245671 -0.20841251  0.02430004  0.15619593  0.34012425\n",
      " -0.08264634 -0.03226016  0.26228365 -0.18725805  0.18432256 -0.09601996\n",
      "  0.73261977  0.1836352  -0.14779012  0.07368126  0.46270473  0.50765906\n",
      "  0.06396759 -0.05261089  0.02606375  0.29509968 -0.18725419  0.03717165]\n"
     ]
    }
   ],
   "source": [
    "# fining matrix Lambda in 1st way\n",
    "Lambda = solve(T,Y_mean)\n",
    "print Lambda"
   ]
  },
  {
   "cell_type": "code",
   "execution_count": 15,
   "metadata": {},
   "outputs": [
    {
     "name": "stdout",
     "output_type": "stream",
     "text": [
      "[(0, 8), (8, 16), (16, 28)]\n",
      "[ 0.34992034  0.51075149 -0.58803337  0.19987809  0.13941425 -0.1132202\n",
      "  0.44473034  0.65028045  1.62448452 -0.14783584  0.31133824  0.00558653\n",
      "  0.18955955  0.44224306  0.70014773  1.24273592  1.10149754  0.49310866\n",
      " -0.21702704  0.34553081  0.04991361  0.59218562  0.43809552  0.52157175\n",
      "  0.35825224  0.38856777  0.74943628  0.82971209]\n"
     ]
    }
   ],
   "source": [
    "# fining matrix Lambda in 2st way\n",
    "temp = [ i*(j+1) for i,j in zip(N,P)]\n",
    "inds = [(sum(temp[:i]),sum(temp[:i+1])) for i in range(1,len(temp))]\n",
    "Lambda = []\n",
    "print inds\n",
    "for l,r in inds:\n",
    "    T_part = [t[l:r] for t in T]\n",
    "    Lambda += [solve(T_part,Y_mean)]\n",
    "Lambda = np.concatenate(Lambda)\n",
    "\n",
    "print Lambda"
   ]
  },
  {
   "cell_type": "code",
   "execution_count": 76,
   "metadata": {},
   "outputs": [
    {
     "data": {
      "text/plain": [
       "0.024786407384903248"
      ]
     },
     "execution_count": 76,
     "metadata": {},
     "output_type": "execute_result"
    }
   ],
   "source": [
    "abs((Y_mean - np.array(T).dot(Lambda))).mean()"
   ]
  },
  {
   "cell_type": "code",
   "execution_count": 77,
   "metadata": {},
   "outputs": [
    {
     "data": {
      "text/plain": [
       "0.096386071537322926"
      ]
     },
     "execution_count": 77,
     "metadata": {},
     "output_type": "execute_result"
    }
   ],
   "source": [
    "abs((Y_mean - np.array(T).dot(Lambda))).max()"
   ]
  },
  {
   "cell_type": "markdown",
   "metadata": {},
   "source": [
    "#finding KSI\n",
    "\n",
    "#KSI\n",
    "\t#KSI_1_j1:\n",
    "\t\tKSI_1_1 (x11) [list of len == q]\n",
    "\t\tKSI_1_2 (x12) [list of len == q]\n",
    "\t#KSI_2_j2:\n",
    "\t\tKSI_2_1 (x21) [list of len == q]\n",
    "\t\tKSI_2_2 (x22) [list of len == q]\n",
    "\t#KSI_3_j3:\n",
    "\t\tKSI_3_1 (x31) [list of len == q]\n",
    "\t\tKSI_3_2 (x32) [list of len == q]\n",
    "\t\tKSI_3_3 (x31) [list of len == q]\n"
   ]
  },
  {
   "cell_type": "code",
   "execution_count": 79,
   "metadata": {},
   "outputs": [],
   "source": [
    "#getting KSI\n",
    "KSI = []\n",
    "new_Lambda = []\n",
    "i=0\n",
    "for n in range(1,3+1):\n",
    "    KSI+=[[]]\n",
    "    for j in range(1, N[n]+1):\n",
    "        for p in range(0, P[n]+1):\n",
    "            #print \"n: %d, j: %d, p: %d   -   %f\"%(n,j,p,Lambda[i])\n",
    "            i+=1\n",
    "        s=sum([ k*(l+1) for k,l in zip(N[:n],P[:n])])\n",
    "        left = (j-1)*(P[n]+1)+s\n",
    "        right = j*(P[n]+1)+s\n",
    "        KSI[-1] += [[Lambda[left:right].dot(T[q][left:right]) for q in range(0,Q)]]\n",
    "        new_Lambda += [[Lambda[left:right]]]\n",
    "        #print "
   ]
  },
  {
   "cell_type": "code",
   "execution_count": 80,
   "metadata": {},
   "outputs": [
    {
     "name": "stdout",
     "output_type": "stream",
     "text": [
      "OK\n"
     ]
    },
    {
     "name": "stderr",
     "output_type": "stream",
     "text": [
      "/usr/local/lib/python2.7/dist-packages/ipykernel/__main__.py:6: RuntimeWarning: invalid value encountered in double_scalars\n"
     ]
    },
    {
     "ename": "KeyboardInterrupt",
     "evalue": "",
     "output_type": "error",
     "traceback": [
      "\u001b[1;31m---------------------------------------------------------------------------\u001b[0m",
      "\u001b[1;31mKeyboardInterrupt\u001b[0m                         Traceback (most recent call last)",
      "\u001b[1;32m<ipython-input-80-899bc7c568fb>\u001b[0m in \u001b[0;36m<module>\u001b[1;34m()\u001b[0m\n\u001b[0;32m      4\u001b[0m     \u001b[0mA_mats\u001b[0m \u001b[1;33m+=\u001b[0m \u001b[1;33m[\u001b[0m\u001b[1;33m[\u001b[0m\u001b[1;33m]\u001b[0m\u001b[1;33m]\u001b[0m\u001b[1;33m\u001b[0m\u001b[0m\n\u001b[0;32m      5\u001b[0m     \u001b[1;32mfor\u001b[0m \u001b[0mx_n\u001b[0m \u001b[1;32min\u001b[0m \u001b[0mrange\u001b[0m\u001b[1;33m(\u001b[0m\u001b[1;36m1\u001b[0m\u001b[1;33m,\u001b[0m\u001b[1;36m3\u001b[0m\u001b[1;33m+\u001b[0m\u001b[1;36m1\u001b[0m\u001b[1;33m)\u001b[0m\u001b[1;33m:\u001b[0m\u001b[1;33m\u001b[0m\u001b[0m\n\u001b[1;32m----> 6\u001b[1;33m         \u001b[0mA_mats\u001b[0m\u001b[1;33m[\u001b[0m\u001b[1;33m-\u001b[0m\u001b[1;36m1\u001b[0m\u001b[1;33m]\u001b[0m \u001b[1;33m+=\u001b[0m \u001b[1;33m[\u001b[0m\u001b[0msolve\u001b[0m\u001b[1;33m(\u001b[0m\u001b[0mnp\u001b[0m\u001b[1;33m.\u001b[0m\u001b[0mmatrix\u001b[0m\u001b[1;33m(\u001b[0m\u001b[0mKSI\u001b[0m\u001b[1;33m[\u001b[0m\u001b[0mx_n\u001b[0m\u001b[1;33m-\u001b[0m\u001b[1;36m1\u001b[0m\u001b[1;33m]\u001b[0m\u001b[1;33m)\u001b[0m\u001b[1;33m.\u001b[0m\u001b[0mT\u001b[0m\u001b[1;33m,\u001b[0m \u001b[0mY\u001b[0m\u001b[1;33m[\u001b[0m\u001b[1;34m'Y_%d'\u001b[0m\u001b[1;33m%\u001b[0m\u001b[0mn\u001b[0m\u001b[1;33m]\u001b[0m\u001b[1;33m,\u001b[0m \u001b[0mN\u001b[0m\u001b[1;33m[\u001b[0m\u001b[0mx_n\u001b[0m\u001b[1;33m]\u001b[0m\u001b[1;33m)\u001b[0m\u001b[1;33m]\u001b[0m\u001b[1;33m\u001b[0m\u001b[0m\n\u001b[0m",
      "\u001b[1;32m<ipython-input-6-719e126edb45>\u001b[0m in \u001b[0;36msolve\u001b[1;34m(A, B, NN)\u001b[0m\n\u001b[0;32m     12\u001b[0m         \u001b[1;32mfor\u001b[0m \u001b[0mi\u001b[0m \u001b[1;32min\u001b[0m \u001b[0mrange\u001b[0m\u001b[1;33m(\u001b[0m\u001b[1;36m0\u001b[0m\u001b[1;33m,\u001b[0m \u001b[0mNN\u001b[0m\u001b[1;33m)\u001b[0m\u001b[1;33m:\u001b[0m\u001b[1;33m\u001b[0m\u001b[0m\n\u001b[0;32m     13\u001b[0m             \u001b[0mx_temp\u001b[0m \u001b[1;33m=\u001b[0m \u001b[0mcopy\u001b[0m\u001b[1;33m.\u001b[0m\u001b[0mdeepcopy\u001b[0m\u001b[1;33m(\u001b[0m\u001b[0mx\u001b[0m\u001b[1;33m)\u001b[0m\u001b[1;33m\u001b[0m\u001b[0m\n\u001b[1;32m---> 14\u001b[1;33m             \u001b[0mderivative\u001b[0m \u001b[1;33m=\u001b[0m \u001b[0mgF_gi\u001b[0m\u001b[1;33m(\u001b[0m\u001b[0mi\u001b[0m\u001b[1;33m,\u001b[0m\u001b[0mB\u001b[0m\u001b[1;33m,\u001b[0m \u001b[0mA\u001b[0m\u001b[1;33m,\u001b[0m \u001b[0mx_temp\u001b[0m\u001b[1;33m)\u001b[0m\u001b[1;33m\u001b[0m\u001b[0m\n\u001b[0m\u001b[0;32m     15\u001b[0m             \u001b[0mx\u001b[0m\u001b[1;33m[\u001b[0m\u001b[0mi\u001b[0m\u001b[1;33m]\u001b[0m \u001b[1;33m=\u001b[0m \u001b[0mx_temp\u001b[0m\u001b[1;33m[\u001b[0m\u001b[0mi\u001b[0m\u001b[1;33m]\u001b[0m \u001b[1;33m-\u001b[0m \u001b[0mL\u001b[0m\u001b[1;33m(\u001b[0m\u001b[0mi\u001b[0m\u001b[1;33m,\u001b[0m \u001b[0mx_temp\u001b[0m\u001b[1;33m,\u001b[0m \u001b[0mderivative\u001b[0m\u001b[1;33m,\u001b[0m \u001b[0mA\u001b[0m\u001b[1;33m,\u001b[0m \u001b[0mB\u001b[0m\u001b[1;33m)\u001b[0m\u001b[1;33m*\u001b[0m\u001b[0mderivative\u001b[0m\u001b[1;33m\u001b[0m\u001b[0m\n\u001b[0;32m     16\u001b[0m         \u001b[1;31m#print x\u001b[0m\u001b[1;33m\u001b[0m\u001b[1;33m\u001b[0m\u001b[0m\n",
      "\u001b[1;32m<ipython-input-5-0e2ed93d8fca>\u001b[0m in \u001b[0;36mgF_gi\u001b[1;34m(i, Y_mean_, T_, Lambda_)\u001b[0m\n\u001b[0;32m      5\u001b[0m     \u001b[1;32mfor\u001b[0m \u001b[0mq\u001b[0m \u001b[1;32min\u001b[0m \u001b[0mrange\u001b[0m\u001b[1;33m(\u001b[0m\u001b[1;36m0\u001b[0m\u001b[1;33m,\u001b[0m \u001b[0mT_\u001b[0m\u001b[1;33m.\u001b[0m\u001b[0mshape\u001b[0m\u001b[1;33m[\u001b[0m\u001b[1;36m1\u001b[0m\u001b[1;33m]\u001b[0m\u001b[1;33m)\u001b[0m\u001b[1;33m:\u001b[0m\u001b[1;31m#V_N):#Q):\u001b[0m\u001b[1;33m\u001b[0m\u001b[0m\n\u001b[0;32m      6\u001b[0m         \u001b[1;32mif\u001b[0m \u001b[0mlist\u001b[0m\u001b[1;33m(\u001b[0m\u001b[0mY_mean_\u001b[0m\u001b[1;33m)\u001b[0m \u001b[1;33m!=\u001b[0m \u001b[1;33m[\u001b[0m\u001b[1;33m]\u001b[0m\u001b[1;33m:\u001b[0m\u001b[1;33m\u001b[0m\u001b[0m\n\u001b[1;32m----> 7\u001b[1;33m             \u001b[0mcoef\u001b[0m \u001b[1;33m=\u001b[0m \u001b[0mnp\u001b[0m\u001b[1;33m.\u001b[0m\u001b[0marray\u001b[0m\u001b[1;33m(\u001b[0m\u001b[0mT_\u001b[0m\u001b[1;33m[\u001b[0m\u001b[0mq\u001b[0m\u001b[1;33m]\u001b[0m\u001b[1;33m.\u001b[0m\u001b[0mtolist\u001b[0m\u001b[1;33m(\u001b[0m\u001b[1;33m)\u001b[0m\u001b[1;33m[\u001b[0m\u001b[1;36m0\u001b[0m\u001b[1;33m]\u001b[0m\u001b[1;33m+\u001b[0m \u001b[1;33m[\u001b[0m\u001b[1;33m-\u001b[0m\u001b[0mY_mean_\u001b[0m\u001b[1;33m[\u001b[0m\u001b[0mq\u001b[0m\u001b[1;33m]\u001b[0m\u001b[1;33m]\u001b[0m\u001b[1;33m)\u001b[0m\u001b[1;33m\u001b[0m\u001b[0m\n\u001b[0m\u001b[0;32m      8\u001b[0m             \u001b[0mlambd\u001b[0m \u001b[1;33m=\u001b[0m \u001b[0mnp\u001b[0m\u001b[1;33m.\u001b[0m\u001b[0marray\u001b[0m\u001b[1;33m(\u001b[0m\u001b[0mlist\u001b[0m\u001b[1;33m(\u001b[0m\u001b[0mLambda_\u001b[0m\u001b[1;33m)\u001b[0m \u001b[1;33m+\u001b[0m \u001b[1;33m[\u001b[0m\u001b[1;36m1\u001b[0m\u001b[1;33m]\u001b[0m\u001b[1;33m)\u001b[0m\u001b[1;33m\u001b[0m\u001b[0m\n\u001b[0;32m      9\u001b[0m         \u001b[1;32melse\u001b[0m\u001b[1;33m:\u001b[0m\u001b[1;33m\u001b[0m\u001b[0m\n",
      "\u001b[1;32m/usr/local/lib/python2.7/dist-packages/numpy/matrixlib/defmatrix.pyc\u001b[0m in \u001b[0;36m__getitem__\u001b[1;34m(self, index)\u001b[0m\n\u001b[0;32m    335\u001b[0m                 \u001b[0mout\u001b[0m\u001b[1;33m.\u001b[0m\u001b[0mshape\u001b[0m \u001b[1;33m=\u001b[0m \u001b[1;33m(\u001b[0m\u001b[0msh\u001b[0m\u001b[1;33m,\u001b[0m \u001b[1;36m1\u001b[0m\u001b[1;33m)\u001b[0m\u001b[1;33m\u001b[0m\u001b[0m\n\u001b[0;32m    336\u001b[0m             \u001b[1;32melse\u001b[0m\u001b[1;33m:\u001b[0m\u001b[1;33m\u001b[0m\u001b[0m\n\u001b[1;32m--> 337\u001b[1;33m                 \u001b[0mout\u001b[0m\u001b[1;33m.\u001b[0m\u001b[0mshape\u001b[0m \u001b[1;33m=\u001b[0m \u001b[1;33m(\u001b[0m\u001b[1;36m1\u001b[0m\u001b[1;33m,\u001b[0m \u001b[0msh\u001b[0m\u001b[1;33m)\u001b[0m\u001b[1;33m\u001b[0m\u001b[0m\n\u001b[0m\u001b[0;32m    338\u001b[0m         \u001b[1;32mreturn\u001b[0m \u001b[0mout\u001b[0m\u001b[1;33m\u001b[0m\u001b[0m\n\u001b[0;32m    339\u001b[0m \u001b[1;33m\u001b[0m\u001b[0m\n",
      "\u001b[1;31mKeyboardInterrupt\u001b[0m: "
     ]
    }
   ],
   "source": [
    "# finding matrix A (1,2,3) in 1st way\n",
    "A_mats = []\n",
    "for n in range(1, Y.shape[1]+1):\n",
    "    A_mats += [[]]\n",
    "    for x_n in range(1,3+1):\n",
    "        A_mats[-1] += [solve(np.matrix(KSI[x_n-1]).T, Y['Y_%d'%n], N[x_n])]"
   ]
  },
  {
   "cell_type": "code",
   "execution_count": null,
   "metadata": {
    "collapsed": true
   },
   "outputs": [],
   "source": [
    "[0,2,1,3]"
   ]
  },
  {
   "cell_type": "code",
   "execution_count": null,
   "metadata": {},
   "outputs": [],
   "source": [
    "A_mats[0]"
   ]
  },
  {
   "cell_type": "code",
   "execution_count": null,
   "metadata": {},
   "outputs": [],
   "source": [
    "for n in range(1, Y.shape[1] +1):\n",
    "    for x_n in range(1,3+1):\n",
    "        print (Y['Y_%d'%n] - np.array(KSI[x_n-1]).T.dot(np.array(A_mats[n-1][x_n-1]))).max()\n",
    "    print"
   ]
  },
  {
   "cell_type": "code",
   "execution_count": null,
   "metadata": {},
   "outputs": [],
   "source": [
    "# finding Fi values\n",
    "Fi_mats = []\n",
    "for n in range(1, Y.shape[1]+1):\n",
    "    Fi_mats += [[]]\n",
    "    for x_n in range(1,3+1):\n",
    "            Fi_mats[-1] += [np.array(KSI[x_n-1][:]).T.dot(A_mats[n-1][x_n-1])]\n",
    "    \n",
    "#for n in range(1,3+1):\n",
    "#    Fi_mats +=[np.array(KSI[n-1][:]).T.dot(A_mats[n-1])]"
   ]
  },
  {
   "cell_type": "code",
   "execution_count": 52,
   "metadata": {
    "scrolled": true
   },
   "outputs": [
    {
     "data": {
      "text/plain": [
       "[[array([ 0.04598153,  0.04964041,  0.05454132,  0.05990852,  0.06243792,\n",
       "          0.06572697,  0.0688443 ,  0.07233905,  0.07241653,  0.06797301,\n",
       "          0.06446216,  0.06050086,  0.05796468,  0.05497566,  0.05209893,\n",
       "          0.04905088,  0.04499049,  0.04161221,  0.03904547,  0.03721056,\n",
       "          0.03633934,  0.03644769,  0.03663233,  0.0373197 ,  0.03813691,\n",
       "          0.03964994,  0.04233579,  0.04609073,  0.04995996,  0.05550693,\n",
       "          0.06124471,  0.06655651,  0.07303776,  0.0676118 ,  0.06149448,\n",
       "          0.0557411 ,  0.05060048,  0.04610472,  0.04234107,  0.04577488,\n",
       "          0.04982747,  0.05486702,  0.06021569,  0.06522277,  0.07088566]),\n",
       "  array([ 0.04892347,  0.04739302,  0.04969893,  0.0323034 ,  0.01438901,\n",
       "          0.00038939, -0.00384754, -0.01172157, -0.02690955, -0.03939665,\n",
       "         -0.05526037, -0.06585801, -0.07599202, -0.08272974, -0.08386636,\n",
       "         -0.07909264, -0.06752249, -0.08889148, -0.09999507, -0.09811329,\n",
       "         -0.07812371, -0.04387507, -0.01388045, -0.0223722 , -0.02004053,\n",
       "         -0.01250296,  0.00493601,  0.02886534,  0.04149345,  0.04112941,\n",
       "          0.03375731,  0.01963163,  0.0108733 , -0.00362343, -0.01594662,\n",
       "         -0.02155914,  0.00597705,  0.03545879,  0.02955603,  0.02314404,\n",
       "          0.02799705,  0.0259743 ,  0.03080987,  0.03338101,  0.0306903 ]),\n",
       "  array([ 0.04472511,  0.07343851,  0.07591707,  0.1076859 ,  0.12029916,\n",
       "          0.14591836,  0.24971453,  0.293203  ,  0.35378871,  0.37015143,\n",
       "          0.35464053,  0.36298232,  0.36469241,  0.36504397,  0.40855071,\n",
       "          0.43239977,  0.45074501,  0.47427577,  0.52499952,  0.58923453,\n",
       "          0.64640637,  0.71451339,  0.72726074,  0.74458968,  0.74090946,\n",
       "          0.74824694,  0.73356107,  0.74590145,  0.70730866,  0.64222684,\n",
       "          0.57653393,  0.45467316,  0.36691236,  0.25777013,  0.15426843,\n",
       "          0.09057762,  0.04574387,  0.00450827, -0.01283817,  0.02979744,\n",
       "          0.0383016 ,  0.05925122,  0.08548389,  0.07279598,  0.06946817])],\n",
       " [array([ 0.05386321,  0.05230139,  0.05046762,  0.04862159,  0.04794512,\n",
       "          0.04719592,  0.04654529,  0.04588752,  0.04637591,  0.04687067,\n",
       "          0.04778262,  0.04885629,  0.04948072,  0.05035376,  0.05135235,\n",
       "          0.05354551,  0.05488364,  0.05597996,  0.05678836,  0.05733669,\n",
       "          0.05754103,  0.0573887 ,  0.05745779,  0.05733395,  0.05716784,\n",
       "          0.05620968,  0.05511687,  0.05368392,  0.05225837,  0.05037249,\n",
       "          0.04854801,  0.04697459,  0.04501124,  0.04739272,  0.04924999,\n",
       "          0.050943  ,  0.05251216,  0.05391202,  0.05511896,  0.05379607,\n",
       "          0.05239241,  0.05059667,  0.0487433 ,  0.04644613,  0.04415852]),\n",
       "  array([ 0.0541894 ,  0.0526704 ,  0.05495907,  0.03769357,  0.01991309,\n",
       "          0.00601812,  0.00181286, -0.00606707, -0.02128021, -0.03381569,\n",
       "         -0.04969455, -0.0603277 , -0.07047067, -0.0772001 , -0.07832144,\n",
       "         -0.07351198, -0.06188279, -0.08323756, -0.0943296 , -0.09247026,\n",
       "         -0.07254851, -0.03850908, -0.00862079, -0.0169185 , -0.01446254,\n",
       "         -0.00684262,  0.01059063,  0.03444681,  0.04703789,  0.04669117,\n",
       "          0.03935957,  0.02527598,  0.01653715,  0.0020353 , -0.01032882,\n",
       "         -0.01604096,  0.01143097,  0.04082537,  0.03508022,  0.02876214,\n",
       "          0.03365716,  0.03163826,  0.03645113,  0.03898327,  0.03625199]),\n",
       "  array([ 0.04712004,  0.0650394 ,  0.05311956,  0.06966525,  0.06334337,\n",
       "          0.07585046,  0.1371223 ,  0.14094307,  0.15472282,  0.12537378,\n",
       "          0.08971047,  0.0903338 ,  0.07076569,  0.06160592,  0.13576396,\n",
       "          0.13407136,  0.11365642,  0.10963003,  0.14032368,  0.21338655,\n",
       "          0.38036686,  0.49993959,  0.54713691,  0.58191244,  0.59792028,\n",
       "          0.60026943,  0.55251906,  0.53982743,  0.53593136,  0.49506217,\n",
       "          0.44626012,  0.34712925,  0.22858858,  0.09027632, -0.02368189,\n",
       "         -0.10581585, -0.19798557, -0.28121991, -0.29234528, -0.24744836,\n",
       "         -0.1453229 , -0.04082702,  0.04503818,  0.07389793,  0.08329183])],\n",
       " [array([ 0.17169533,  0.10174614,  0.01174398, -0.08450182, -0.12709292,\n",
       "         -0.18061028, -0.2304836 , -0.28537082, -0.27939636, -0.21449197,\n",
       "         -0.1557608 , -0.08885518, -0.0469199 ,  0.00446332,  0.05618033,\n",
       "          0.12720669,  0.19918322,  0.25882502,  0.30378836,  0.33550877,\n",
       "          0.34976897,  0.34618081,  0.34476569,  0.3340492 ,  0.32103864,\n",
       "          0.28764763,  0.23706761,  0.16771072,  0.09697223, -0.00218307,\n",
       "         -0.10294387, -0.194571  , -0.30699312, -0.20232676, -0.09615769,\n",
       "          0.00292633,  0.09226483,  0.17079002,  0.23702877,  0.17342485,\n",
       "          0.10061301,  0.0093503 , -0.08675933, -0.18476877, -0.29117648]),\n",
       "  array([ 0.13704292,  0.13570387,  0.1377214 ,  0.12250134,  0.1068273 ,\n",
       "          0.09457846,  0.09087139,  0.08289833,  0.06728901,  0.05399211,\n",
       "          0.03787452,  0.02668242,  0.01639827,  0.0097992 ,  0.00891796,\n",
       "          0.01429009,  0.02684834,  0.00571669, -0.00519372, -0.00368739,\n",
       "          0.0151676 ,  0.0459162 ,  0.07413236,  0.06888751,  0.07329899,\n",
       "          0.08221465,  0.09955843,  0.12226448,  0.13427308,  0.13419897,\n",
       "          0.12750441,  0.1140826 ,  0.10565034,  0.09106747,  0.07805915,\n",
       "          0.07077941,  0.09724107,  0.12526212,  0.12199662,  0.11715575,\n",
       "          0.12271188,  0.12075363,  0.12520935,  0.12712805,  0.12375828]),\n",
       "  array([ 0.15660461,  0.11969861,  0.073744  ,  0.01963608, -0.04286971,\n",
       "         -0.08940071, -0.24410377, -0.37870325, -0.53848323, -0.68770698,\n",
       "         -0.7479598 , -0.77157221, -0.83894776, -0.86869739, -0.77999889,\n",
       "         -0.87214792, -1.00974848, -1.10943353, -1.1918398 , -1.184444  ,\n",
       "         -0.82548648, -0.66621952, -0.54883602, -0.49139475, -0.42499131,\n",
       "         -0.44419507, -0.55599229, -0.64228487, -0.51609462, -0.42292211,\n",
       "         -0.35534562, -0.26208134, -0.3459465 , -0.41853831, -0.43359537,\n",
       "         -0.48459546, -0.63446276, -0.77044232, -0.75330416, -0.76339699,\n",
       "         -0.45627955, -0.18411334,  0.00668145,  0.14888087,  0.19064289])],\n",
       " [array([ 0.09534981,  0.06567159,  0.02756431, -0.01313485, -0.03108204,\n",
       "         -0.05358804, -0.0745402 , -0.09757253, -0.094878  , -0.06776948,\n",
       "         -0.04303051, -0.01483262,  0.00281951,  0.02449716,  0.04636955,\n",
       "          0.07677794,  0.10719536,  0.13239447,  0.15138369,  0.16477017,\n",
       "          0.17076923,  0.16921435,  0.16865923,  0.16416433,  0.15870012,\n",
       "          0.14443727,  0.12299349,  0.09361858,  0.06367469,  0.02175238,\n",
       "         -0.02080737, -0.05947068, -0.10692348, -0.06249535, -0.01768053,\n",
       "          0.0241255 ,  0.06183885,  0.09499675,  0.12297834,  0.09603605,\n",
       "          0.06524314,  0.0266308 , -0.01401526, -0.0556479 , -0.10075513]),\n",
       "  array([ 0.08120729,  0.07974694,  0.08194724,  0.0653484 ,  0.04825446,\n",
       "          0.034896  ,  0.03085311,  0.02294267,  0.00760006, -0.00518393,\n",
       "         -0.02114093, -0.03195655, -0.04214574, -0.04883278, -0.04987586,\n",
       "         -0.04488282, -0.03295048, -0.05423289, -0.0652659 , -0.06352164,\n",
       "         -0.04394737, -0.01098038,  0.01836321,  0.01106082,  0.01415449,\n",
       "          0.02219706,  0.03960146,  0.06308305,  0.07548442,  0.07522659,\n",
       "          0.06810258,  0.05423453,  0.0455955 ,  0.03106696,  0.01849255,\n",
       "          0.01226914,  0.03941216,  0.06835928,  0.06342259,  0.05758607,\n",
       "          0.06269676,  0.0606976 ,  0.0653941 ,  0.06772626,  0.06478672]),\n",
       "  array([ 0.07634024,  0.08099073,  0.06078434,  0.06016887,  0.04017615,\n",
       "          0.03833792,  0.04715049,  0.01730467, -0.01110567, -0.06965628,\n",
       "         -0.11132575, -0.11655598, -0.14776402, -0.1619329 , -0.08416412,\n",
       "         -0.10796322, -0.15707865, -0.1844986 , -0.18142623, -0.12439094,\n",
       "          0.08980134,  0.21929919,  0.2837854 ,  0.32419711,  0.35253024,\n",
       "          0.34960835,  0.28607483,  0.25539725,  0.28327487,  0.27502449,\n",
       "          0.25449713,  0.20201726,  0.09173629, -0.03075346, -0.12080623,\n",
       "         -0.19553041, -0.30196267, -0.3982838 , -0.40264276, -0.37121911,\n",
       "         -0.21894297, -0.07338029,  0.03820107,  0.09478381,  0.11207184])]]"
      ]
     },
     "execution_count": 52,
     "metadata": {},
     "output_type": "execute_result"
    }
   ],
   "source": [
    "Fi_mats"
   ]
  },
  {
   "cell_type": "code",
   "execution_count": null,
   "metadata": {},
   "outputs": [],
   "source": [
    "# finding matrix C (1,2,3) in 1st way\n",
    "C_mats = []\n",
    "#for n in range(1, Y.shape[1]+1):\n",
    "#    C_mats += [[]]\n",
    "for n in range(1,4+1):\n",
    "    C_mats += [solve(np.matrix(Fi_mats[n-1]).T,Y['Y_%d'%n],3)]"
   ]
  },
  {
   "cell_type": "code",
   "execution_count": null,
   "metadata": {},
   "outputs": [],
   "source": [
    "C_mats"
   ]
  },
  {
   "cell_type": "code",
   "execution_count": 58,
   "metadata": {},
   "outputs": [
    {
     "data": {
      "text/plain": [
       "2.8908183511328409"
      ]
     },
     "execution_count": 58,
     "metadata": {},
     "output_type": "execute_result"
    }
   ],
   "source": [
    "abs(Y['Y_3']-(np.matrix(Fi_mats[2]).T.dot(C_mats[2])).tolist()[0]).max()"
   ]
  },
  {
   "cell_type": "code",
   "execution_count": 61,
   "metadata": {
    "collapsed": true
   },
   "outputs": [],
   "source": [
    "def show_i(i):\n",
    "    fig, ax = plt.subplots(1)\n",
    "    real_Y = Y['Y_%d'%i]\n",
    "    predicted_Y = np.matrix(Fi_mats[i-1]).T.dot(C_mats[i-1]).tolist()[0]\n",
    "    plt.plot(Y['Y_%d'%i], color='green', label='Real')\n",
    "    plt.plot(predicted_Y, color='red', label='Model')\n",
    "    residual = (Y['Y_%d'%i] - predicted_Y).max()\n",
    "    plt.text(0.99, 0.99,'residual is %f'%residual, ha='right', va='top', transform=ax.transAxes)\n",
    "    plt.title('Comparing Y_%d'%i)\n",
    "    plt.xlabel('q')\n",
    "    plt.ylabel('Y_%d'%i)\n",
    "    plt.legend(loc=4)\n",
    "    plt.ylim([-1.2,1.2])\n",
    "    plt.show()"
   ]
  },
  {
   "cell_type": "code",
   "execution_count": null,
   "metadata": {},
   "outputs": [],
   "source": [
    "for i in range(1,5):\n",
    "    show_i(i)"
   ]
  },
  {
   "cell_type": "code",
   "execution_count": null,
   "metadata": {},
   "outputs": [],
   "source": [
    "new_Lambda"
   ]
  },
  {
   "cell_type": "code",
   "execution_count": 126,
   "metadata": {
    "collapsed": true
   },
   "outputs": [],
   "source": [
    "def get_coef_near_T(k, C_mats, A_mats, new_Lambda):\n",
    "    #coef near KSI\n",
    "    al = []\n",
    "    for i,c in enumerate(C_mats[k]):\n",
    "        al += [list(c*A_mats[k][i])]\n",
    "    #flat\n",
    "    al=sum(al,[])\n",
    "    #coef near T\n",
    "    coef = []\n",
    "    for i in range(0,len(al)):\n",
    "        coef += [al[i]*np.array(new_Lambda[i])]\n",
    "    return coef"
   ]
  },
  {
   "cell_type": "code",
   "execution_count": 127,
   "metadata": {},
   "outputs": [],
   "source": [
    "#coef fo x**i\n",
    "#input coef near T\n",
    "#out\n",
    "def get_coef_near_x_deg(coefs):\n",
    "    X_coefs = []\n",
    "    for x_coef in coefs:\n",
    "        l=len(x_coef[0])\n",
    "        mat = [list(reversed(get_koef(i,i+1,POL_TYPE)))+[0]*(l-i-1) for i in range(0,l)]\n",
    "        #print mat\n",
    "        mat = [np.array(mat)[i]*x_coef[0][i] for i in range(0,len(coef[0][0]))]\n",
    "        p_coef = np.array([line.sum() for line in np.array(mat).T])\n",
    "        #print p_coef#, x_coef[0]\n",
    "        X_coefs += [p_coef]\n",
    "    return X_coefs"
   ]
  },
  {
   "cell_type": "code",
   "execution_count": 128,
   "metadata": {
    "collapsed": true
   },
   "outputs": [],
   "source": [
    "def get_str_func_T(num, X_coef):\n",
    "    s = 'Ф_%d(x_1,x_2,x_3) = '%num\n",
    "    for n in range(1,3+1):\n",
    "        for j in range(1,N[n]+1):\n",
    "            #print sum(N[:n])+j\n",
    "            for i in range(0,len(X_coef[sum(N[:n])+j-1][0])):\n",
    "                s_temp = \"%f * T_%d(Х_%d%d)\"%(X_coef[sum(N[:n])+j-1][0][i], i, n,j)\n",
    "                #print s_temp\n",
    "                s += s_temp+' + '\n",
    "            #print\n",
    "    return s[:-3]"
   ]
  },
  {
   "cell_type": "code",
   "execution_count": 129,
   "metadata": {},
   "outputs": [],
   "source": [
    "def get_str_func_x(num, X_coef):\n",
    "    s = 'Ф_%d(x_1,x_2,x_3) = '%num\n",
    "    for n in range(1,3+1):\n",
    "        for j in range(1,N[n]+1):\n",
    "            #print sum(N[:n])+j\n",
    "            for i in range(0,len(X_coef[sum(N[:n])+j-1])):\n",
    "                s_temp = \"%f * X_%d%d ^ %d\"%(X_coef[sum(N[:n])+j-1][i], n,j,i)\n",
    "                #print s_temp\n",
    "                s += s_temp+' + '\n",
    "            #print\n",
    "    return s[:-3]"
   ]
  },
  {
   "cell_type": "code",
   "execution_count": 130,
   "metadata": {
    "collapsed": true
   },
   "outputs": [],
   "source": [
    "def current_row(n):\n",
    "    row = []\n",
    "    for i in range(n):\n",
    "        if i == 0 or i == n-1:\n",
    "            row.append(1)\n",
    "        else:\n",
    "            c_row = current_row(n-1)\n",
    "            row.append(c_row[i-1] + c_row[i])\n",
    "    return row\n",
    "       \n",
    "def triangle(m):\n",
    "    result = []\n",
    "    for i in range(m):\n",
    "        result.append(current_row(i+1))\n",
    "    return result"
   ]
  },
  {
   "cell_type": "code",
   "execution_count": 131,
   "metadata": {},
   "outputs": [
    {
     "name": "stdout",
     "output_type": "stream",
     "text": [
      "Ф_1(x_1,x_2,x_3) = 0.210271 * T_0(Х_11) + -0.021375 * T_1(Х_11) + 0.015317 * T_2(Х_11) + -0.002922 * T_3(Х_11) + -0.029191 * T_0(Х_12) + -0.109079 * T_1(Х_12) + 0.014341 * T_2(Х_12) + 0.007601 * T_3(Х_12) + -0.140231 * T_0(Х_21) + -0.142066 * T_1(Х_21) + 0.074417 * T_2(Х_21) + -0.017467 * T_3(Х_21) + 0.121693 * T_0(Х_22) + 0.162186 * T_1(Х_22) + -0.119176 * T_2(Х_22) + 0.046432 * T_3(Х_22) + 0.687681 * T_0(Х_31) + 0.163744 * T_1(Х_31) + 0.090517 * T_2(Х_31) + -0.039623 * T_3(Х_31) + 0.278999 * T_0(Х_32) + 0.376420 * T_1(Х_32) + -0.006761 * T_2(Х_32) + -0.048867 * T_3(Х_32) + -0.472204 * T_0(Х_33) + -0.626122 * T_1(Х_33) + 0.494277 * T_2(Х_33) + -0.100693 * T_3(Х_33)\n",
      "\n",
      "Ф_1(x_1,x_2,x_3) = 0.324180 * T_0(Х_11) + -0.032955 * T_1(Х_11) + 0.023615 * T_2(Х_11) + -0.004504 * T_3(Х_11) + -0.045004 * T_0(Х_12) + -0.168170 * T_1(Х_12) + 0.022111 * T_2(Х_12) + 0.011719 * T_3(Х_12) + 1.090352 * T_0(Х_21) + 1.104618 * T_1(Х_21) + -0.578621 * T_2(Х_21) + 0.135810 * T_3(Х_21) + -0.946211 * T_0(Х_22) + -1.261056 * T_1(Х_22) + 0.926641 * T_2(Х_22) + -0.361030 * T_3(Х_22) + -0.244615 * T_0(Х_31) + -0.058245 * T_1(Х_31) + -0.032198 * T_2(Х_31) + 0.014094 * T_3(Х_31) + -0.099242 * T_0(Х_32) + -0.133896 * T_1(Х_32) + 0.002405 * T_2(Х_32) + 0.017382 * T_3(Х_32) + 0.167967 * T_0(Х_33) + 0.222717 * T_1(Х_33) + -0.175819 * T_2(Х_33) + 0.035817 * T_3(Х_33)\n",
      "\n",
      "Ф_1(x_1,x_2,x_3) = -1.856995 * T_0(Х_11) + 0.188775 * T_1(Х_11) + -0.135274 * T_2(Х_11) + 0.025801 * T_3(Х_11) + 0.257797 * T_0(Х_12) + 0.963326 * T_1(Х_12) + -0.126656 * T_2(Х_12) + -0.067128 * T_3(Х_12) + -9.414342 * T_0(Х_21) + -9.537522 * T_1(Х_21) + 4.995944 * T_2(Х_21) + -1.172617 * T_3(Х_21) + 8.169795 * T_0(Х_22) + 10.888244 * T_1(Х_22) + -8.000827 * T_2(Х_22) + 3.117217 * T_3(Х_22) + 0.722315 * T_0(Х_31) + 0.171991 * T_1(Х_31) + 0.095075 * T_2(Х_31) + -0.041619 * T_3(Х_31) + 0.293050 * T_0(Х_32) + 0.395378 * T_1(Х_32) + -0.007101 * T_2(Х_32) + -0.051328 * T_3(Х_32) + -0.495985 * T_0(Х_33) + -0.657656 * T_1(Х_33) + 0.519171 * T_2(Х_33) + -0.105764 * T_3(Х_33)\n",
      "\n",
      "Ф_1(x_1,x_2,x_3) = -0.432037 * T_0(Х_11) + 0.043919 * T_1(Х_11) + -0.031472 * T_2(Х_11) + 0.006003 * T_3(Х_11) + 0.059978 * T_0(Х_12) + 0.224121 * T_1(Х_12) + -0.029467 * T_2(Х_12) + -0.015618 * T_3(Х_12) + -2.399154 * T_0(Х_21) + -2.430545 * T_1(Х_21) + 1.273168 * T_2(Х_21) + -0.298830 * T_3(Х_21) + 2.081993 * T_0(Х_22) + 2.774763 * T_1(Х_22) + -2.038933 * T_2(Х_22) + 0.794392 * T_3(Х_22) + -0.080290 * T_0(Х_31) + -0.019118 * T_1(Х_31) + -0.010568 * T_2(Х_31) + 0.004626 * T_3(Х_31) + -0.032574 * T_0(Х_32) + -0.043949 * T_1(Х_32) + 0.000789 * T_2(Х_32) + 0.005705 * T_3(Х_32) + 0.055132 * T_0(Х_33) + 0.073103 * T_1(Х_33) + -0.057709 * T_2(Х_33) + 0.011756 * T_3(Х_33)\n",
      "\n"
     ]
    }
   ],
   "source": [
    "for n in range(1,len(C_mats)+1):\n",
    "    coef = get_coef_near_T(n-1, C_mats, A_mats, new_Lambda)\n",
    "    print get_str_func_T(1,coef)\n",
    "    print"
   ]
  },
  {
   "cell_type": "code",
   "execution_count": 132,
   "metadata": {},
   "outputs": [
    {
     "name": "stdout",
     "output_type": "stream",
     "text": [
      "Ф_1(x_1,x_2,x_3) = 0.194954 * X_11 ^ 0 + -0.012611 * X_11 ^ 1 + 0.030635 * X_11 ^ 2 + -0.011686 * X_11 ^ 3 + -0.043532 * X_12 ^ 0 + -0.131882 * X_12 ^ 1 + 0.028683 * X_12 ^ 2 + 0.030404 * X_12 ^ 3 + -0.214648 * X_21 ^ 0 + -0.089666 * X_21 ^ 1 + 0.148834 * X_21 ^ 2 + -0.069867 * X_21 ^ 3 + 0.240869 * X_22 ^ 0 + 0.022888 * X_22 ^ 1 + -0.238352 * X_22 ^ 2 + 0.185730 * X_22 ^ 3 + 0.597165 * X_31 ^ 0 + 0.282613 * X_31 ^ 1 + 0.181033 * X_31 ^ 2 + -0.158493 * X_31 ^ 3 + 0.285759 * X_32 ^ 0 + 0.523021 * X_32 ^ 1 + -0.013521 * X_32 ^ 2 + -0.195468 * X_32 ^ 3 + -0.966481 * X_33 ^ 0 + -0.324044 * X_33 ^ 1 + 0.988555 * X_33 ^ 2 + -0.402772 * X_33 ^ 3\n",
      "\n",
      "Ф_2(x_1,x_2,x_3) = 0.300565 * X_11 ^ 0 + -0.019442 * X_11 ^ 1 + 0.047230 * X_11 ^ 2 + -0.018017 * X_11 ^ 3 + -0.067115 * X_12 ^ 0 + -0.203327 * X_12 ^ 1 + 0.044221 * X_12 ^ 2 + 0.046875 * X_12 ^ 3 + 1.668973 * X_21 ^ 0 + 0.697187 * X_21 ^ 1 + -1.157242 * X_21 ^ 2 + 0.543241 * X_21 ^ 3 + -1.872852 * X_22 ^ 0 + -0.177966 * X_22 ^ 1 + 1.853282 * X_22 ^ 2 + -1.444121 * X_22 ^ 3 + -0.212417 * X_31 ^ 0 + -0.100528 * X_31 ^ 1 + -0.064395 * X_31 ^ 2 + 0.056377 * X_31 ^ 3 + -0.101647 * X_32 ^ 0 + -0.186043 * X_32 ^ 1 + 0.004810 * X_32 ^ 2 + 0.069530 * X_32 ^ 3 + 0.343786 * X_33 ^ 0 + 0.115265 * X_33 ^ 1 + -0.351638 * X_33 ^ 2 + 0.143270 * X_33 ^ 3\n",
      "\n",
      "Ф_3(x_1,x_2,x_3) = -1.721721 * X_11 ^ 0 + 0.111371 * X_11 ^ 1 + -0.270548 * X_11 ^ 2 + 0.103205 * X_11 ^ 3 + 0.384453 * X_12 ^ 0 + 1.164711 * X_12 ^ 1 + -0.253312 * X_12 ^ 2 + -0.268513 * X_12 ^ 3 + -14.410286 * X_21 ^ 0 + -6.019671 * X_21 ^ 1 + 9.991888 * X_21 ^ 2 + -4.690468 * X_21 ^ 3 + 16.170621 * X_22 ^ 0 + 1.536594 * X_22 ^ 1 + -16.001654 * X_22 ^ 2 + 12.468866 * X_22 ^ 3 + 0.627240 * X_31 ^ 0 + 0.296847 * X_31 ^ 1 + 0.190151 * X_31 ^ 2 + -0.166475 * X_31 ^ 3 + 0.300151 * X_32 ^ 0 + 0.549362 * X_32 ^ 1 + -0.014202 * X_32 ^ 2 + -0.205312 * X_32 ^ 3 + -1.015156 * X_33 ^ 0 + -0.340363 * X_33 ^ 1 + 1.038342 * X_33 ^ 2 + -0.423056 * X_33 ^ 3\n",
      "\n",
      "Ф_4(x_1,x_2,x_3) = -0.400565 * X_11 ^ 0 + 0.025911 * X_11 ^ 1 + -0.062944 * X_11 ^ 2 + 0.024011 * X_11 ^ 3 + 0.089444 * X_12 ^ 0 + 0.270974 * X_12 ^ 1 + -0.058934 * X_12 ^ 2 + -0.062471 * X_12 ^ 3 + -3.672321 * X_21 ^ 0 + -1.534055 * X_21 ^ 1 + 2.546336 * X_21 ^ 2 + -1.195320 * X_21 ^ 3 + 4.120926 * X_22 ^ 0 + 0.391586 * X_22 ^ 1 + -4.077866 * X_22 ^ 2 + 3.177569 * X_22 ^ 3 + -0.069722 * X_31 ^ 0 + -0.032996 * X_31 ^ 1 + -0.021136 * X_31 ^ 2 + 0.018505 * X_31 ^ 3 + -0.033364 * X_32 ^ 0 + -0.061065 * X_32 ^ 1 + 0.001579 * X_32 ^ 2 + 0.022822 * X_32 ^ 3 + 0.112841 * X_33 ^ 0 + 0.037834 * X_33 ^ 1 + -0.115418 * X_33 ^ 2 + 0.047026 * X_33 ^ 3\n",
      "\n"
     ]
    }
   ],
   "source": [
    "for n in range(1,len(C_mats)+1):\n",
    "    coef = get_coef_near_T(n-1, C_mats, A_mats, new_Lambda)\n",
    "    X_coefs = get_coef_near_x_deg(coef)\n",
    "    print get_str_func_x(n,X_coefs)\n",
    "    print"
   ]
  },
  {
   "cell_type": "code",
   "execution_count": 133,
   "metadata": {
    "collapsed": true
   },
   "outputs": [],
   "source": [
    "#output is from deg 0 of x to n\n",
    "def coef_by_x_deg(x_i_min, x_i_max, deg):\n",
    "    coef = np.zeros(deg+1)\n",
    "    pascal_coef = current_row(deg+1)\n",
    "    for i in range(0, deg+1):\n",
    "        coef[i] = (x_i_min)**i*pascal_coef[i]\n",
    "        if i%2!=0:\n",
    "            coef[i]*=-1\n",
    "    coef /= (x_i_max-x_i_min)**deg\n",
    "    return np.array(list(reversed(coef)))"
   ]
  },
  {
   "cell_type": "code",
   "execution_count": 138,
   "metadata": {},
   "outputs": [
    {
     "name": "stdout",
     "output_type": "stream",
     "text": [
      "Ф_1(x_1,x_2,x_3) = 0.194954 * X_11 ^ 0 + -0.012611 * X_11 ^ 1 + 0.030635 * X_11 ^ 2 + -0.011686 * X_11 ^ 3 + -0.043532 * X_12 ^ 0 + -0.131882 * X_12 ^ 1 + 0.028683 * X_12 ^ 2 + 0.030404 * X_12 ^ 3 + -0.214648 * X_21 ^ 0 + -0.089666 * X_21 ^ 1 + 0.148834 * X_21 ^ 2 + -0.069867 * X_21 ^ 3 + 0.240869 * X_22 ^ 0 + 0.022888 * X_22 ^ 1 + -0.238352 * X_22 ^ 2 + 0.185730 * X_22 ^ 3 + 0.597165 * X_31 ^ 0 + 0.282613 * X_31 ^ 1 + 0.181033 * X_31 ^ 2 + -0.158493 * X_31 ^ 3 + 0.285759 * X_32 ^ 0 + 0.523021 * X_32 ^ 1 + -0.013521 * X_32 ^ 2 + -0.195468 * X_32 ^ 3 + -0.966481 * X_33 ^ 0 + -0.324044 * X_33 ^ 1 + 0.988555 * X_33 ^ 2 + -0.402772 * X_33 ^ 3 + 168.334000\n",
      "\n",
      "Ф_2(x_1,x_2,x_3) = 0.300565 * X_11 ^ 0 + -0.019442 * X_11 ^ 1 + 0.047230 * X_11 ^ 2 + -0.018017 * X_11 ^ 3 + -0.067115 * X_12 ^ 0 + -0.203327 * X_12 ^ 1 + 0.044221 * X_12 ^ 2 + 0.046875 * X_12 ^ 3 + 1.668973 * X_21 ^ 0 + 0.697187 * X_21 ^ 1 + -1.157242 * X_21 ^ 2 + 0.543241 * X_21 ^ 3 + -1.872852 * X_22 ^ 0 + -0.177966 * X_22 ^ 1 + 1.853282 * X_22 ^ 2 + -1.444121 * X_22 ^ 3 + -0.212417 * X_31 ^ 0 + -0.100528 * X_31 ^ 1 + -0.064395 * X_31 ^ 2 + 0.056377 * X_31 ^ 3 + -0.101647 * X_32 ^ 0 + -0.186043 * X_32 ^ 1 + 0.004810 * X_32 ^ 2 + 0.069530 * X_32 ^ 3 + 0.343786 * X_33 ^ 0 + 0.115265 * X_33 ^ 1 + -0.351638 * X_33 ^ 2 + 0.143270 * X_33 ^ 3 + 8.475000\n",
      "\n",
      "Ф_3(x_1,x_2,x_3) = -1.721721 * X_11 ^ 0 + 0.111371 * X_11 ^ 1 + -0.270548 * X_11 ^ 2 + 0.103205 * X_11 ^ 3 + 0.384453 * X_12 ^ 0 + 1.164711 * X_12 ^ 1 + -0.253312 * X_12 ^ 2 + -0.268513 * X_12 ^ 3 + -14.410286 * X_21 ^ 0 + -6.019671 * X_21 ^ 1 + 9.991888 * X_21 ^ 2 + -4.690468 * X_21 ^ 3 + 16.170621 * X_22 ^ 0 + 1.536594 * X_22 ^ 1 + -16.001654 * X_22 ^ 2 + 12.468866 * X_22 ^ 3 + 0.627240 * X_31 ^ 0 + 0.296847 * X_31 ^ 1 + 0.190151 * X_31 ^ 2 + -0.166475 * X_31 ^ 3 + 0.300151 * X_32 ^ 0 + 0.549362 * X_32 ^ 1 + -0.014202 * X_32 ^ 2 + -0.205312 * X_32 ^ 3 + -1.015156 * X_33 ^ 0 + -0.340363 * X_33 ^ 1 + 1.038342 * X_33 ^ 2 + -0.423056 * X_33 ^ 3 + 63.453000\n",
      "\n",
      "Ф_4(x_1,x_2,x_3) = -0.400565 * X_11 ^ 0 + 0.025911 * X_11 ^ 1 + -0.062944 * X_11 ^ 2 + 0.024011 * X_11 ^ 3 + 0.089444 * X_12 ^ 0 + 0.270974 * X_12 ^ 1 + -0.058934 * X_12 ^ 2 + -0.062471 * X_12 ^ 3 + -3.672321 * X_21 ^ 0 + -1.534055 * X_21 ^ 1 + 2.546336 * X_21 ^ 2 + -1.195320 * X_21 ^ 3 + 4.120926 * X_22 ^ 0 + 0.391586 * X_22 ^ 1 + -4.077866 * X_22 ^ 2 + 3.177569 * X_22 ^ 3 + -0.069722 * X_31 ^ 0 + -0.032996 * X_31 ^ 1 + -0.021136 * X_31 ^ 2 + 0.018505 * X_31 ^ 3 + -0.033364 * X_32 ^ 0 + -0.061065 * X_32 ^ 1 + 0.001579 * X_32 ^ 2 + 0.022822 * X_32 ^ 3 + 0.112841 * X_33 ^ 0 + 0.037834 * X_33 ^ 1 + -0.115418 * X_33 ^ 2 + 0.047026 * X_33 ^ 3 + 32.817000\n",
      "\n"
     ]
    }
   ],
   "source": [
    "for n in range(1,len(C_mats)+1):\n",
    "    coef = get_coef_near_T(n-1, C_mats, A_mats, new_Lambda)\n",
    "    X_coefs = get_coef_near_x_deg(coef)\n",
    "    unnormed_coef = get_unnormalize_coef(X_coefs)\n",
    "    #print unnormed_coef\n",
    "    print get_str_func_x(n,X_coefs) + ' + %f'%original_Y['Y_%d'%n].min()\n",
    "    print"
   ]
  },
  {
   "cell_type": "code",
   "execution_count": 137,
   "metadata": {
    "collapsed": true
   },
   "outputs": [],
   "source": [
    "def get_unnormalize_coef(X_coef):\n",
    "    X_cols = list(original_X.columns.values)\n",
    "    Unnormed_X_coefs = []\n",
    "    for i,x in enumerate(X_cols):\n",
    "        Unnormed_X_coefs_temp = []\n",
    "        for deg in range(0,len(X_coef[0])):\n",
    "            Unnormed_X_coefs_temp += [np.append(coef_by_x_deg(original_X['X_11'].min(), \n",
    "                                                              original_X['X_11'].max(),\n",
    "                                                              deg), \n",
    "                                                [0]*(len(X_coefs[0])-deg-1))*X_coef[i][deg]]\n",
    "        Unnormed_X_coefs += [sum(Unnormed_X_coefs_temp)]\n",
    "    return Unnormed_X_coefs"
   ]
  },
  {
   "cell_type": "code",
   "execution_count": 135,
   "metadata": {},
   "outputs": [
    {
     "data": {
      "text/plain": [
       "[array([  1.99193197e-01,  -1.45321622e-03,   1.07415421e-04,\n",
       "         -1.74476315e-06]),\n",
       " array([ -1.41743390e-02,  -7.42690112e-03,   2.55697832e-05,\n",
       "          4.53941707e-06]),\n",
       " array([ -1.87819514e-01,  -8.66295203e-03,   5.45609666e-04,\n",
       "         -1.04312519e-05]),\n",
       " array([  2.23106459e-01,   8.01227237e-03,  -1.00772282e-03,\n",
       "          2.77298334e-05]),\n",
       " array([  5.46373014e-01,   9.70147177e-03,   7.96998697e-04,\n",
       "         -2.36632783e-05]),\n",
       " array([  1.74700552e-01,   2.66186485e-02,   3.16528194e-04,\n",
       "         -2.91837184e-05]),\n",
       " array([ -8.47230302e-01,  -4.26849980e-02,   3.51276955e-03,\n",
       "         -6.01346440e-05])]"
      ]
     },
     "execution_count": 135,
     "metadata": {},
     "output_type": "execute_result"
    }
   ],
   "source": [
    "X_cols = list(original_X.columns.values)\n",
    "Unnormed_X_coefs = []\n",
    "for i,x in enumerate(X_cols):\n",
    "    Unnormed_X_coefs_temp = []\n",
    "    for deg in range(0,len(X_coefs[0])):\n",
    "        Unnormed_X_coefs_temp += [np.append(coef_by_x_deg(original_X['X_11'].min(), \n",
    "                                                          original_X['X_11'].max(),\n",
    "                                                          deg), \n",
    "                                            [0]*(len(X_coefs[0])-deg-1))*X_coefs[i][deg]]\n",
    "    Unnormed_X_coefs += [sum(Unnormed_X_coefs_temp)]\n",
    "Unnormed_X_coefs"
   ]
  },
  {
   "cell_type": "code",
   "execution_count": null,
   "metadata": {
    "collapsed": true
   },
   "outputs": [],
   "source": [
    "f = open('1.txt', 'w+')"
   ]
  },
  {
   "cell_type": "code",
   "execution_count": null,
   "metadata": {},
   "outputs": [],
   "source": [
    "f.write(Lambda)"
   ]
  },
  {
   "cell_type": "code",
   "execution_count": null,
   "metadata": {
    "collapsed": true
   },
   "outputs": [],
   "source": [
    "f.close()"
   ]
  },
  {
   "cell_type": "code",
   "execution_count": null,
   "metadata": {},
   "outputs": [],
   "source": [
    "' '.join([str(i) for i in list(Lambda)])"
   ]
  },
  {
   "cell_type": "code",
   "execution_count": null,
   "metadata": {},
   "outputs": [],
   "source": [
    "for a in A_mats:\n",
    "    print ' '.join([str(i) for i in list(a)])"
   ]
  },
  {
   "cell_type": "code",
   "execution_count": null,
   "metadata": {},
   "outputs": [],
   "source": [
    "' '.join([1,2,3])"
   ]
  }
 ],
 "metadata": {
  "kernelspec": {
   "display_name": "Python 3",
   "language": "python",
   "name": "python3"
  },
  "language_info": {
   "codemirror_mode": {
    "name": "ipython",
    "version": 3
   },
   "file_extension": ".py",
   "mimetype": "text/x-python",
   "name": "python",
   "nbconvert_exporter": "python",
   "pygments_lexer": "ipython3",
   "version": "3.6.0"
  }
 },
 "nbformat": 4,
 "nbformat_minor": 1
}
