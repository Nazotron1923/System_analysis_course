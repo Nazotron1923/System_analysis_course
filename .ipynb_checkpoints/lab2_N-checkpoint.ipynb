{
 "cells": [
  {
   "cell_type": "code",
   "execution_count": 1,
   "metadata": {},
   "outputs": [
    {
     "name": "stderr",
     "output_type": "stream",
     "text": [
      "/usr/local/lib/python2.7/dist-packages/matplotlib/font_manager.py:273: UserWarning: Matplotlib is building the font cache using fc-list. This may take a moment.\n",
      "  warnings.warn('Matplotlib is building the font cache using fc-list. This may take a moment.')\n"
     ]
    }
   ],
   "source": [
    "import pandas as pd\n",
    "import numpy as np\n",
    "import matplotlib.pyplot as plt"
   ]
  },
  {
   "cell_type": "code",
   "execution_count": 61,
   "metadata": {
    "collapsed": true
   },
   "outputs": [],
   "source": [
    "# dimensions os Xs'\n",
    "n_1 = 2\n",
    "n_2 = 2\n",
    "n_3 = 3\n",
    "N = [0,2,2,3]\n",
    "\n",
    "#TODO: evaluate\n",
    "# number of polynoms\n",
    "p_1 = 3\n",
    "p_2 = 3\n",
    "p_3 = 3\n",
    "P = [0,1,2,3]"
   ]
  },
  {
   "cell_type": "code",
   "execution_count": 62,
   "metadata": {
    "collapsed": true
   },
   "outputs": [],
   "source": [
    "eps = 0.001\n",
    "POL_TYPE = 'CH'"
   ]
  },
  {
   "cell_type": "code",
   "execution_count": 63,
   "metadata": {
    "collapsed": true
   },
   "outputs": [],
   "source": [
    "def normalize(X):\n",
    "    for column in X:\n",
    "        d1 = X[column].min()\n",
    "        d2 = X[column].max()\n",
    "        X[column] = X[column].apply(lambda x: (x-d1)/float(d2-d1))\n",
    "    return X"
   ]
  },
  {
   "cell_type": "code",
   "execution_count": 64,
   "metadata": {
    "collapsed": true
   },
   "outputs": [],
   "source": [
    "#Chebishev\n",
    "def get_T(x, deg, name):\n",
    "    if name=='CH':\n",
    "        #if (deg >= 1):\n",
    "        #    return get_T(x, deg-1,'CH')*(2*x - 1)\n",
    "        #else:\n",
    "        #    return 1\n",
    "        if (deg == 0): return 1\n",
    "        elif (deg == 1): return x\n",
    "        else: return (2*x*get_T(x,deg-1,'CH') - get_T(x,deg-2,'CH'))\n",
    "    if name == 'LAG':\n",
    "        if deg == 0:\n",
    "            return 1\n",
    "        if deg == 1:\n",
    "            return 1-x\n",
    "        if deg >=2:\n",
    "            return ((2*deg-1-x)*get_T(x,deg-1,'LAG')-(deg-1)*get_T(x,deg-2,'LAG'))/float(deg)\n",
    "    if name == 'ER':\n",
    "        if deg == 0:\n",
    "            return 1\n",
    "        if deg == 1:\n",
    "            return 2*x\n",
    "        if deg == 2:\n",
    "            return 4*(x**2)-2\n",
    "        elif deg>=3:\n",
    "            return 2*x*get_T(x, deg-1, 'ER')-2*(deg-1)*get_T(x,deg-2,'ER')\n",
    "        else:\n",
    "            return 1"
   ]
  },
  {
   "cell_type": "code",
   "execution_count": 29,
   "metadata": {},
   "outputs": [],
   "source": [
    "def mult(pol, name, deg = 0):\n",
    "    if name in ['CH1', 'CH2', 'ER']: \n",
    "        for i in range(1,len(pol)): pol[i-1] = 2 * pol[i]\n",
    "        pol[-1] = 0\n",
    "        return pol\n",
    "    elif name in ['CH_sh', 'CH_sh2']:\n",
    "        a = [0] * len(pol)\n",
    "        for i in range(1,len(pol)): a[i-1] = 4 * pol[i]\n",
    "        pol = [2*x for x in pol]\n",
    "        return substr(a,pol)\n",
    "    elif name == 'LAG':\n",
    "        a = [0] * len(pol)\n",
    "        for i in range(1,len(pol)): a[i-1] = pol[i]\n",
    "        pol = [(2*deg -1)*x for x in pol]\n",
    "        return substr(pol,a)\n",
    "    elif name == 'LEG': \n",
    "        for i in range(1,len(pol)): pol[i-1] = (2 * deg - 1) * pol[i] / float(deg)\n",
    "        pol[-1] = 0\n",
    "        return pol\n",
    "\n",
    "\n",
    "def substr(pol1, pol2):\n",
    "    res = []\n",
    "    for i in range(len(pol1)):\n",
    "        res.append(pol1[i]-pol2[i])\n",
    "    return res"
   ]
  },
  {
   "cell_type": "code",
   "execution_count": 30,
   "metadata": {},
   "outputs": [
    {
     "data": {
      "text/plain": [
       "[2, 4, 6]"
      ]
     },
     "execution_count": 30,
     "metadata": {},
     "output_type": "execute_result"
    }
   ],
   "source": [
    "k = [1,2,3]\n",
    "k = [2*x for x in k]\n",
    "k"
   ]
  },
  {
   "cell_type": "code",
   "execution_count": 31,
   "metadata": {
    "collapsed": true
   },
   "outputs": [],
   "source": [
    "def get_koef(deg,n, name):\n",
    "    if deg > 1:\n",
    "        if name == 'LAG': return substr(mult(get_koef(deg-1,n, name), name, deg), [x*(deg-1)**2 for x in get_koef(deg-2,n, name)])\n",
    "        elif name == 'ER': return substr(mult(get_koef(deg-1,n, name), name), [x*(2*deg-2) for x in get_koef(deg-2,n, name)])\n",
    "        elif name == 'LEG': return substr(mult(get_koef(deg-1,n, name), name, deg), [x*(deg-1)/float(deg) for x in get_koef(deg-2,n, name)])\n",
    "        else: return substr(mult(get_koef(deg-1,n, name), name), get_koef(deg-2,n, name)) #CH1, CH2, CH_sh, CH_sh2\n",
    "    elif deg == 0:\n",
    "        koef = [0]*n\n",
    "        koef[-1] = 1\n",
    "        return koef\n",
    "    else:\n",
    "        koef = [0]*n\n",
    "        if name in ['CH1', 'LEG']: koef[-2] = 1\n",
    "        elif name in ['CH2', 'ER']: koef[-2] = 2\n",
    "        elif name == 'CH_sh': koef[-2], koef[-1] = 2, -1\n",
    "        elif name == 'CH_sh2': koef[-2], koef[-1] = 4, -2\n",
    "        elif name == 'LAG': koef[-2], koef[-1] = -1, 1\n",
    "        return koef"
   ]
  },
  {
   "cell_type": "code",
   "execution_count": 32,
   "metadata": {},
   "outputs": [
    {
     "name": "stdout",
     "output_type": "stream",
     "text": [
      "[1]\n",
      "\n",
      "[4, -2]\n",
      "\n",
      "[16, -16, 3]\n",
      "\n",
      "[64, -96, 40, -4]\n",
      "\n",
      "[256, -512, 336, -80, 5]\n",
      "\n",
      "[1024, -2560, 2304, -896, 140, -6]\n",
      "\n",
      "[4096, -12288, 14080, -7680, 2016, -224, 7]\n",
      "\n"
     ]
    }
   ],
   "source": [
    "for i in range(7):\n",
    "    print get_koef(i,i+1, 'CH_sh2')\n",
    "    print"
   ]
  },
  {
   "cell_type": "code",
   "execution_count": 14,
   "metadata": {},
   "outputs": [
    {
     "data": {
      "text/plain": [
       "[4, 0, -3, 0]"
      ]
     },
     "execution_count": 14,
     "metadata": {},
     "output_type": "execute_result"
    }
   ],
   "source": [
    "\n",
    "#substr(mult([0,2,0,-1]), [0,0,1,0])"
   ]
  },
  {
   "cell_type": "code",
   "execution_count": 65,
   "metadata": {},
   "outputs": [
    {
     "data": {
      "text/plain": [
       "26"
      ]
     },
     "execution_count": 65,
     "metadata": {},
     "output_type": "execute_result"
    }
   ],
   "source": [
    "get_T(2,3,'CH')"
   ]
  },
  {
   "cell_type": "code",
   "execution_count": null,
   "metadata": {},
   "outputs": [],
   "source": []
  },
  {
   "cell_type": "code",
   "execution_count": 66,
   "metadata": {},
   "outputs": [],
   "source": [
    "#сумма всех 45 уравнений в квадрате\n",
    "def F(Lambda, Y_mean, T):\n",
    "    return sum([(Lambda.dot(Y_mean[q])-T[q])**2 for q in range(0, len(Y))])"
   ]
  },
  {
   "cell_type": "code",
   "execution_count": 67,
   "metadata": {
    "collapsed": true
   },
   "outputs": [],
   "source": [
    "#производная по і координате в точках лямбда\n",
    "def gF_gi(i, Y_mean, T, Lambda):\n",
    "    gF = 0\n",
    "    T = np.matrix(T)\n",
    "    for q in range(0, len(Y)):\n",
    "        #print q\n",
    "        #print T[q].tolist()[0], [-Y_mean[q]]\n",
    "        if list(Y_mean) != []:\n",
    "            coef = np.array(T[q].tolist()[0]+ [-Y_mean[q]])\n",
    "            lambd = np.array(list(Lambda) + [1])\n",
    "        else:\n",
    "            coef = np.array(T[q].tolist()[0])\n",
    "            lambd = np.array(list(Lambda))\n",
    "        #print coef\n",
    "        #print lambd\n",
    "        gF += 2*coef[i]*coef.dot(lambd)\n",
    "    return gF"
   ]
  },
  {
   "cell_type": "code",
   "execution_count": 68,
   "metadata": {
    "collapsed": true
   },
   "outputs": [],
   "source": [
    "def L(i, a, b, T, Y_mean):\n",
    "    T = np.matrix(T)\n",
    "    a_1 = sum([(a.dot(T[q].tolist()[0])-Y_mean[q])*b.dot(T[q].tolist()[0]) for q in range(0,45)])\n",
    "    a_2 = sum([(b.dot(T[q].tolist()[0]))**2 for q in range(0,45)])\n",
    "    return float(a_1)/a_2"
   ]
  },
  {
   "cell_type": "code",
   "execution_count": 69,
   "metadata": {
    "collapsed": true
   },
   "outputs": [],
   "source": [
    "#get data\n",
    "X = pd.DataFrame.from_csv('X.csv',index_col=False)\n",
    "Y = pd.DataFrame.from_csv('Y.csv', index_col=False)"
   ]
  },
  {
   "cell_type": "code",
   "execution_count": 70,
   "metadata": {
    "collapsed": true
   },
   "outputs": [],
   "source": [
    "#normalize data\n",
    "X = normalize(X)\n",
    "Y = normalize(Y)"
   ]
  },
  {
   "cell_type": "code",
   "execution_count": 71,
   "metadata": {},
   "outputs": [
    {
     "name": "stdout",
     "output_type": "stream",
     "text": [
      "45 22\n"
     ]
    }
   ],
   "source": [
    "#get limits for loops\n",
    "Q = len(Y)\n",
    "V_N = sum([ i*(j+1) for i,j in zip(N,P)])\n",
    "print Q, V_N"
   ]
  },
  {
   "cell_type": "code",
   "execution_count": 72,
   "metadata": {},
   "outputs": [
    {
     "data": {
      "text/plain": [
       "[0, 2, 2, 3]"
      ]
     },
     "execution_count": 72,
     "metadata": {},
     "output_type": "execute_result"
    }
   ],
   "source": [
    "N"
   ]
  },
  {
   "cell_type": "code",
   "execution_count": 73,
   "metadata": {},
   "outputs": [],
   "source": [
    "# get values of polynoms and y for getting matrix lambda. pre stage for hierarcy 3\n",
    "# strings is q and cols are number of lambda\n",
    "T = []\n",
    "Y_mean = []\n",
    "for q in range(0, Q):\n",
    "    Y_mean += [Y.iloc[q].mean()]\n",
    "    a_temp = []\n",
    "    for n in range(1,3+1):\n",
    "        for j in range(1, N[n]+1):\n",
    "            for p in range(0, P[n]+1):\n",
    "                a_temp += [get_T(X['X_%d%d'%(n,j)].iloc[q],p, POL_TYPE)]\n",
    "    T += [a_temp]    "
   ]
  },
  {
   "cell_type": "code",
   "execution_count": 74,
   "metadata": {},
   "outputs": [
    {
     "data": {
      "text/plain": [
       "45"
      ]
     },
     "execution_count": 74,
     "metadata": {},
     "output_type": "execute_result"
    }
   ],
   "source": [
    "Q"
   ]
  },
  {
   "cell_type": "code",
   "execution_count": 75,
   "metadata": {
    "scrolled": true
   },
   "outputs": [
    {
     "name": "stdout",
     "output_type": "stream",
     "text": [
      "22\n"
     ]
    }
   ],
   "source": [
    "# fining matrix Lambda in 1st way\n",
    "Lambda_0 = np.array([1]*V_N)\n",
    "Lambda = Lambda_0\n",
    "print len(T[0])\n",
    "while True:\n",
    "    for i in range(0, len(T[0])):\n",
    "        Lambda_temp = Lambda\n",
    "        a = Lambda_temp\n",
    "        b = gF_gi(i,Y_mean, T, Lambda_temp)*np.eye(len(T[0]))[i]\n",
    "        Lambda = a - L(i, a, b, T, Y_mean)*b\n",
    "    #print Lambda\n",
    "    #print sum((Lambda-Lambda_0)**2)**(0.5)\n",
    "    #print \n",
    "    if sum((Lambda-Lambda_0)**2)**(0.5) < eps:\n",
    "        break\n",
    "    else: \n",
    "        Lambda_0 = Lambda"
   ]
  },
  {
   "cell_type": "markdown",
   "metadata": {},
   "source": [
    "#finding KSI\n",
    "\n",
    "#KSI\n",
    "\t#KSI_1_j1:\n",
    "\t\tKSI_1_1 (x11) [list of len == q]\n",
    "\t\tKSI_1_2 (x12) [list of len == q]\n",
    "\t#KSI_2_j2:\n",
    "\t\tKSI_2_1 (x21) [list of len == q]\n",
    "\t\tKSI_2_2 (x22) [list of len == q]\n",
    "\t#KSI_3_j3:\n",
    "\t\tKSI_3_1 (x31) [list of len == q]\n",
    "\t\tKSI_3_2 (x32) [list of len == q]\n",
    "\t\tKSI_3_3 (x31) [list of len == q]\n"
   ]
  },
  {
   "cell_type": "code",
   "execution_count": 76,
   "metadata": {},
   "outputs": [],
   "source": [
    "#getting KSI\n",
    "KSI = []\n",
    "i=0\n",
    "for n in range(1,3+1):\n",
    "    KSI+=[[]]\n",
    "    for j in range(1, N[n]+1):\n",
    "        for p in range(0, P[n]+1):\n",
    "            #print \"n: %d, j: %d, p: %d   -   %f\"%(n,j,p,Lambda[i])\n",
    "            i+=1\n",
    "        s=sum([ k*(l+1) for k,l in zip(N[:n],P[:n])])\n",
    "        left = (j-1)*(P[n]+1)+s\n",
    "        right = j*(P[n]+1)+s\n",
    "        KSI[-1] += [[Lambda[left:right].dot(T[q][left:right]) for q in range(0,Q)]]\n",
    "        #print "
   ]
  },
  {
   "cell_type": "code",
   "execution_count": 77,
   "metadata": {},
   "outputs": [],
   "source": [
    "# finding matrix A (1,2,3) in 1st way\n",
    "A_mats = []\n",
    "for n in range(1,3+1):\n",
    "    Lambda_0 = np.array([1]*(N[n]))\n",
    "    Lambda = Lambda_0\n",
    "    while True:\n",
    "        for i in range(0, N[n]):\n",
    "            Lambda_temp = Lambda\n",
    "            KSI_n = np.matrix(KSI[n-1]).T\n",
    "            a = Lambda_temp\n",
    "            b = gF_gi(i,Y['Y_%d'%n], KSI_n, Lambda_temp)*np.eye(N[n])[i]\n",
    "            Lambda = a - L(i, a, b, KSI_n, Y['Y_%d'%n])*b\n",
    "        #print Lambda\n",
    "        #print sum((Lambda-Lambda_0)**2)**(0.5)\n",
    "        #print \n",
    "        if sum((Lambda-Lambda_0)**2)**(0.5) < eps:\n",
    "            break\n",
    "        else: \n",
    "            Lambda_0 = Lambda\n",
    "    A_mats += [Lambda]"
   ]
  },
  {
   "cell_type": "code",
   "execution_count": 78,
   "metadata": {},
   "outputs": [
    {
     "data": {
      "text/plain": [
       "[array([ 0.20966759,  0.9993186 ]),\n",
       " array([-0.51270144,  0.99876799]),\n",
       " array([-2.68140071,  1.38842951,  5.97791987])]"
      ]
     },
     "execution_count": 78,
     "metadata": {},
     "output_type": "execute_result"
    }
   ],
   "source": [
    "A_mats"
   ]
  },
  {
   "cell_type": "code",
   "execution_count": 79,
   "metadata": {},
   "outputs": [],
   "source": [
    "# finding Fi values\n",
    "Fi_mats = []\n",
    "for n in range(1,3+1):z\n",
    "    Fi_mats +=[np.array(KSI[n-1][:]).T.dot(A_mats[n-1])]"
   ]
  },
  {
   "cell_type": "code",
   "execution_count": 80,
   "metadata": {},
   "outputs": [],
   "source": [
    "# finding matrix C (1,2,3) in 1st way\n",
    "C_mats = []\n",
    "for n in range(1,4+1):\n",
    "    C_0 = np.array([1]*3)\n",
    "    C = C_0\n",
    "    while True:\n",
    "        for i in range(0,3):\n",
    "            C_temp = C\n",
    "            KSI_n = np.matrix(Fi_mats).T\n",
    "            a = C_temp\n",
    "            b = gF_gi(i, [], KSI_n, C_temp)*np.eye(3)[i]\n",
    "            C = a - L(i, a, b, KSI_n, Y['Y_%d'%n])*b\n",
    "        #print Lambda\n",
    "        #print sum((Lambda-Lambda_0)**2)**(0.5)\n",
    "        #print \n",
    "        if sum((C-C_0)**2)**(0.5) < eps:\n",
    "            break\n",
    "        else: \n",
    "            C_0 = C\n",
    "    C_mats += [C]"
   ]
  },
  {
   "cell_type": "code",
   "execution_count": 81,
   "metadata": {},
   "outputs": [
    {
     "data": {
      "text/plain": [
       "[array([ 2.07118198, -1.98304459,  0.35354517]),\n",
       " array([ 3.70258234, -5.02782207,  0.66779212]),\n",
       " array([ 2.23542384, -3.05028749,  0.98697251]),\n",
       " array([ -7.39306974,  10.56693721,   0.63631006])]"
      ]
     },
     "execution_count": 81,
     "metadata": {},
     "output_type": "execute_result"
    }
   ],
   "source": [
    "C_mats"
   ]
  },
  {
   "cell_type": "code",
   "execution_count": 82,
   "metadata": {},
   "outputs": [
    {
     "data": {
      "text/plain": [
       "0.25528477928411586"
      ]
     },
     "execution_count": 82,
     "metadata": {},
     "output_type": "execute_result"
    }
   ],
   "source": [
    "np.array([i[0] for i in Fi_mats]).dot(C_mats[0])"
   ]
  },
  {
   "cell_type": "code",
   "execution_count": 23,
   "metadata": {
    "collapsed": true
   },
   "outputs": [
    {
     "data": {
      "text/plain": [
       "[0.28936784030498386,\n",
       " 0.2680123107780215,\n",
       " 0.2646810236865057,\n",
       " 0.2648361238979168,\n",
       " 0.2719641949925807,\n",
       " 0.271127676005318,\n",
       " 0.279005265707448,\n",
       " 0.28869212926709303,\n",
       " 0.31948633865861953,\n",
       " 0.3187225203494758,\n",
       " 0.30243717420204536,\n",
       " 0.3102556756356889,\n",
       " 0.29726892984767583,\n",
       " 0.33063121249988975,\n",
       " 0.3588151295349406,\n",
       " 0.37361635499749146,\n",
       " 0.3850507169654303,\n",
       " 0.4011761387594811,\n",
       " 0.4389016856703538,\n",
       " 0.44289110237602597,\n",
       " 0.41777399316842945,\n",
       " 0.42069202959294855,\n",
       " 0.4228281632479274,\n",
       " 0.43738720837195133,\n",
       " 0.4538381292557311,\n",
       " 0.4667793719557283,\n",
       " 0.46726980186821643,\n",
       " 0.4723755203905604,\n",
       " 0.462827456723907,\n",
       " 0.4394912052693739,\n",
       " 0.3991485238837894,\n",
       " 0.330508540518027,\n",
       " 0.3191794174839671,\n",
       " 0.323909603511621,\n",
       " 0.31284368015347847,\n",
       " 0.292327959859136,\n",
       " 0.2589125587419229,\n",
       " 0.25465348027096,\n",
       " 0.2631504814364598,\n",
       " 0.32805047150789324,\n",
       " 0.33746516415040007,\n",
       " 0.3096905880266287,\n",
       " 0.2992742516776336,\n",
       " 0.2921370398575404,\n",
       " 0.282502212764871]"
      ]
     },
     "execution_count": 23,
     "metadata": {},
     "output_type": "execute_result"
    }
   ],
   "source": [
    "np.matrix(Fi_mats).T.dot(C_mats[0]).tolist()[0]"
   ]
  },
  {
   "cell_type": "code",
   "execution_count": 84,
   "metadata": {},
   "outputs": [
    {
     "data": {
      "text/plain": [
       "0.19370859857766365"
      ]
     },
     "execution_count": 84,
     "metadata": {},
     "output_type": "execute_result"
    }
   ],
   "source": [
    "abs(Y['Y_1']-(np.matrix(Fi_mats).T.dot(C_mats[0])).tolist()[0]).mean()"
   ]
  },
  {
   "cell_type": "code",
   "execution_count": 106,
   "metadata": {},
   "outputs": [],
   "source": [
    "mas = ['Y_1', 'Y_2','Y_3','Y_4']\n",
    "for i in range(0,len(mas)):\n",
    "    plt.plot(Y[mas[i]], color='red')\n",
    "    plt.plot((np.matrix(Fi_mats).T.dot(C_mats[i])).tolist()[0], color='blue')\n",
    "    plt.savefig(mas[i]+'.jpg')\n",
    "    plt.close()"
   ]
  },
  {
   "cell_type": "code",
   "execution_count": 46,
   "metadata": {},
   "outputs": [
    {
     "data": {
      "text/plain": [
       "[array([ 0.11928585,  0.99940244]),\n",
       " array([-0.96184814,  0.99906797]),\n",
       " array([-1.61358389,  1.2360832 ,  0.68518165])]"
      ]
     },
     "execution_count": 46,
     "metadata": {},
     "output_type": "execute_result"
    }
   ],
   "source": [
    "C_mats"
   ]
  },
  {
   "cell_type": "code",
   "execution_count": 322,
   "metadata": {},
   "outputs": [
    {
     "data": {
      "text/plain": [
       "[0.9208472276202557, 1.1468062372631165, 1]"
      ]
     },
     "execution_count": 322,
     "metadata": {},
     "output_type": "execute_result"
    }
   ],
   "source": [
    "np.matrix(KSI[1]).T[0].tolist()[0] + [1]"
   ]
  },
  {
   "cell_type": "code",
   "execution_count": null,
   "metadata": {
    "collapsed": true
   },
   "outputs": [],
   "source": []
  },
  {
   "cell_type": "code",
   "execution_count": 247,
   "metadata": {
    "collapsed": true
   },
   "outputs": [
    {
     "ename": "ValueError",
     "evalue": "operands could not be broadcast together with shapes (4,) (4,28) ",
     "output_type": "error",
     "traceback": [
      "\u001b[1;31m---------------------------------------------------------------------------\u001b[0m",
      "\u001b[1;31mValueError\u001b[0m                                Traceback (most recent call last)",
      "\u001b[1;32m<ipython-input-247-17395ef64fbf>\u001b[0m in \u001b[0;36m<module>\u001b[1;34m()\u001b[0m\n\u001b[1;32m----> 1\u001b[1;33m \u001b[0mLambda\u001b[0m\u001b[1;33m[\u001b[0m\u001b[0mleft\u001b[0m\u001b[1;33m:\u001b[0m\u001b[0mright\u001b[0m\u001b[1;33m]\u001b[0m\u001b[1;33m*\u001b[0m\u001b[1;33m(\u001b[0m\u001b[0mT\u001b[0m\u001b[1;33m[\u001b[0m\u001b[0mleft\u001b[0m\u001b[1;33m:\u001b[0m\u001b[0mright\u001b[0m\u001b[1;33m]\u001b[0m\u001b[1;33m)\u001b[0m\u001b[1;33m\u001b[0m\u001b[0m\n\u001b[0m",
      "\u001b[1;31mValueError\u001b[0m: operands could not be broadcast together with shapes (4,) (4,28) "
     ]
    }
   ],
   "source": [
    "Lambda[left:right]*(T[left:right])"
   ]
  },
  {
   "cell_type": "code",
   "execution_count": 258,
   "metadata": {},
   "outputs": [
    {
     "data": {
      "text/plain": [
       "1.0883573638439532"
      ]
     },
     "execution_count": 258,
     "metadata": {},
     "output_type": "execute_result"
    }
   ],
   "source": [
    "np.array(T[0][left:right]).dot(Lambda[left:right])"
   ]
  },
  {
   "cell_type": "code",
   "execution_count": 257,
   "metadata": {},
   "outputs": [
    {
     "data": {
      "text/plain": [
       "array([ 1.08129151, -0.04350483, -0.04617624,  0.06426356])"
      ]
     },
     "execution_count": 257,
     "metadata": {},
     "output_type": "execute_result"
    }
   ],
   "source": [
    "np.array(Lambda[left:right])"
   ]
  }
 ],
 "metadata": {
  "kernelspec": {
   "display_name": "Python 3",
   "language": "python",
   "name": "python3"
  },
  "language_info": {
   "codemirror_mode": {
    "name": "ipython",
    "version": 3
   },
   "file_extension": ".py",
   "mimetype": "text/x-python",
   "name": "python",
   "nbconvert_exporter": "python",
   "pygments_lexer": "ipython3",
   "version": "3.6.0"
  }
 },
 "nbformat": 4,
 "nbformat_minor": 1
}
